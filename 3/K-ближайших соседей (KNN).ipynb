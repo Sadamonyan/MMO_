{
  "cells": [
    {
      "cell_type": "markdown",
      "metadata": {
        "id": "NZqGqrwNj7MX"
      },
      "source": [
        "# **Метод K-ближайших соседей**\n",
        "К-ближайших соседей (K-Nearest Neighbors или просто KNN) — алгоритм классификации и регрессии, основанный на гипотезе компактности, которая предполагает, что расположенные близко друг к другу объекты в пространстве признаков имеют схожие значения целевой переменной или принадлежат к одному классу."
      ]
    },
    {
      "cell_type": "markdown",
      "metadata": {
        "id": "a8Go1LPfj84t"
      },
      "source": [
        "![KNN.png](data:image/png;base64,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)"
      ]
    },
    {
      "cell_type": "markdown",
      "metadata": {
        "id": "paboYR3fkY1X"
      },
      "source": [
        "### **Принцип работы KNN**\n",
        "Алгоритм строится следующим образом:\n",
        "- 1) сначала вычисляется расстояние между тестовым и всеми обучающими образцами;\n",
        "- 2) далее из них выбирается k-ближайших образцов (соседей), где число k задаётся заранее;\n",
        "- 3) итоговым прогнозом среди выбранных k-ближайших образцов будет мода в случае классификации и среднее арифметическое в случае регрессии;\n",
        "- 4) предыдущие шаги повторяются для всех тестовых образцов.\n",
        "\n",
        "Существует множество метрик для вычисления расстояния между объектами, среди которых наиболее популярными являются следующие:\n",
        "- Евклидово расстояние — это наиболее простая и общепринятая метрика, которая определяется как длина отрезка между двумя объектами $a$ и $b$ в пространстве с $n$ признаками и вычисляется по формуле:\n",
        "\n",
        "$$d(a, b) = \\sqrt{\\sum_{i=1}^n (a_i - b_i)^2}$$\n",
        "\n",
        "- Манхэттенское расстояние — метрика, которая определяется как сумма модулей разностей координат двух точек в пространстве между двумя объектами $a$ и $b$ с $n$ признаками и вычисляется по формуле:\n",
        "\n",
        "$$d(a, b) = \\sum_{i=1}^n |a_i - b_i|$$\n",
        "\n",
        "- Косинусное расстояние — метрика, которая определяется как угол между двумя векторами $a$ и $b$ в пространстве с $n$ признаками и вычисляется по формуле:\n",
        "\n",
        "$$d(a, b) = 1 - \\frac{\\sum_{i=1}^n a_i b_i}{\\sqrt{\\sum_{i=1}^n a_i^2} \\sqrt{\\sum_{i=1}^n b_i^2}}$$\n",
        "\n",
        "### **Более быстрые оптимизации**\n",
        "Описанный выше тип KNN называется **Brute-Force**, поскольку в нём используется метод полного перебора для поиска ближайших соседей, что делает его простым в реализации, но слишком медленным при работе с большим объемом данных. Для решения данной проблемы в реализации scikit-learn предусмотрены более продвинутые методы, основанные на бинарных деревьях, что позволяет получить значительный прирост в производительности.\n",
        "\n",
        "#### **BallTree**\n",
        "BallTree — это древовидная структура, в основе которой лежит разбиение исходного пространства данных на вложенные гиперсферы, что позволяет более эффективно отсекать большие области пространства, в которых отсутствуют ближайшие соседи для точек. В большинстве случаев такой алгоритм подходит для данных с произвольной метрикой расстояния.\n",
        "\n",
        "**Построение BallTree состоит из следующих шагов**:\n",
        "- 1) из множества точек выбирается одна случайным образом и для неё находится самая дальняя точка;\n",
        "- 2) далее все точки разбиваются на гиперсферы (узлы) по ближайшему расположению к двум точкам из шага 1;\n",
        "- 3) затем данный процесс повторяется рекурсивно для каждой гиперсферы, пока в ней не останется определённое количество точек или не будет достигнута заданная глубина дерева.\n",
        "\n",
        "При поиске k-ближайших соседей для новой точки, алгоритм сравнивает расстояние от заданной точки до центра каждого дочернего узла и оставляет лишь те, в которых данное расстояние меньше радиуса узлов.\n",
        "\n",
        "Для оценки качества полученной древовидной структуры и её дальнейшей оптимизации очень полезной будет информация о пересекающихся гиперсферах (узлах) A и B в метрике M, расстояние между которыми можно определить следующим образом:\n",
        "\n",
        "$$d_M(A, B) = \\max(0, d_M(c_A, c_{B}) - r_A - r_{B})$$\n",
        "\n",
        "где $c_A$ и $c_{B}$ — центры сфер, а $r_A$ и $r_{B}$ — их радиусы.\n",
        "\n",
        "В данном случае оптимизация BallTree с учётом пересекающихся гиперсфер (узлов) может включать в себя следующие подходы:\n",
        "- балансировка дерева: поскольку пересечение гиперсфер может указывать на несбалансированность дерева, перебалансировка его узлов позволяет улучшить эффективность поиска, минимизируя количество посещаемых узлов;\n",
        "- выбор оптимального размера листа: в случае сильного пересечения гиперсфер, увеличение размера листа может уменьшить количество узлов, что также ускорит поиск;\n",
        "- слияние узлов: полезно при значительном пересечении, что также уменьшает их общее количество и используется в предыдущих пунктах;\n",
        "- выбор порядка обхода: информация о структуре пересечения может сделать более эффективным порядок посещаемых узлов, начиная проверку с наиболее вероятных кандидатов.\n",
        "\n",
        "Стоит отметить, что описанные методы оптимизации плюс-минус похожим образом могут быть применимы и для алгоритма ниже.\n",
        "\n",
        "#### **KD-Tree**\n",
        "KD-Tree (k-dimensional tree) — ещё одна древовидная структура, отдалённо напоминающая BallTree, однако в данном случае используются гиперплоскости для разбиения точек вместо гиперсфер, что позволяет также эффективно оставлять лишь те области пространства данных, в которых могут присутствовать ближайшие соседи. Обычно KD-Tree больше подходит для данных с евклидовой или манхэттенской метрикой расстояния.\n",
        "\n",
        "**Построение KD-Tree состоит из следующих шагов**:\n",
        "\n",
        "- 1) из множества точек выбирается одна из координат (обычно поочередно для каждого уровня дерева, но можно и случайным образом) и по ней вычисляется медиана;\n",
        "- 2) далее все точки разбиваются на два узла (подмножества) по отношению к медиане: на те, у которых значение выбранной координаты меньше либо равно медиане, и на те, у которых больше;\n",
        "- 3) данный процесс повторяется рекурсивно для каждого узла, пока в нём не останется определённое количество точек или не будет достигнута заданная глубина дерева.\n",
        "\n",
        "При поиске ближайших соседей для новой точки, алгоритм сравнивает значение заданной точки с медианой в каждом узле, выбирая таким образом ближайшее подпространство, которое будет листом с ближайшими соседями. Возвращаясь обратно к корню, алгоритм будет сравнивать точки в текущем узле с ближайшими соседями и обновлять их значения в случае нахождения более близких к заданной точке.\n",
        "\n",
        "Стоит также добавить, что KNN может применяться в контексте обучения без учителя, например в задачах кластеризации для вычисления расстояний между признаками, как в алгоритме DBSCAN, речь о котором пойдёт немного позже. Для этого в scikit-learn существует специальный класс NearestNeighbors."
      ]
    },
    {
      "cell_type": "markdown",
      "metadata": {
        "id": "aq_FqvzFgNem"
      },
      "source": [
        "### **Реализация на Python с нуля**"
      ]
    },
    {
      "cell_type": "code",
      "execution_count": null,
      "metadata": {
        "id": "4oqZn2GvIhHh"
      },
      "outputs": [],
      "source": [
        "import numpy as np\n",
        "import matplotlib.pyplot as plt\n",
        "from mlxtend.plotting import plot_decision_regions\n",
        "from sklearn.model_selection import train_test_split\n",
        "from sklearn.metrics import accuracy_score, r2_score\n",
        "from sklearn.datasets import load_iris, load_diabetes\n",
        "from sklearn.neighbors import KNeighborsClassifier, KNeighborsRegressor"
      ]
    },
    {
      "cell_type": "code",
      "execution_count": null,
      "metadata": {
        "id": "Fc2AMXccF53-"
      },
      "outputs": [],
      "source": [
        "class KNearestNeighbors:\n",
        "    def __init__(self, n_neighbors=5, regression=False):\n",
        "        self.n_neighbors = n_neighbors\n",
        "        self.regression = regression\n",
        "\n",
        "    def fit(self, X_train, y_train):\n",
        "        self.X_train, self.y_train = X_train, y_train\n",
        "\n",
        "    def _euclidean_distances(self, x_test_i):\n",
        "        return np.sqrt(np.sum((self.X_train - x_test_i) ** 2, axis=1))\n",
        "\n",
        "    def _make_prediction(self, x_test_i):\n",
        "        distances = self._euclidean_distances(x_test_i)   # distances to all neighbors\n",
        "        k_nearest_indexes = np.argsort(distances)[:self.n_neighbors]\n",
        "        targets = self.y_train[k_nearest_indexes]   # k-nearest neighbors target values\n",
        "\n",
        "        return np.mean(targets) if self.regression else np.bincount(targets).argmax()\n",
        "\n",
        "    def predict(self, X_test):\n",
        "        return np.array([self._make_prediction(x) for x in X_test])"
      ]
    },
    {
      "cell_type": "code",
      "execution_count": null,
      "metadata": {
        "id": "7hqbypFcDZ9d"
      },
      "outputs": [],
      "source": [
        "def decision_boundary_plot(X, y, X_train, y_train, clf, feature_indexes, title=None):\n",
        "    feature1_name, feature2_name = X.columns[feature_indexes]\n",
        "    X_feature_columns = X.values[:, feature_indexes]\n",
        "    X_train_feature_columns = X_train[:, feature_indexes]\n",
        "    clf.fit(X_train_feature_columns, y_train)\n",
        "\n",
        "    plot_decision_regions(X=X_feature_columns, y=y.values, clf=clf)\n",
        "    plt.xlabel(feature1_name)\n",
        "    plt.ylabel(feature2_name)\n",
        "    plt.title(title)"
      ]
    },
    {
      "cell_type": "markdown",
      "metadata": {
        "id": "D9XE7Gt5gYnj"
      },
      "source": [
        "### **Загрузка датасетов**"
      ]
    },
    {
      "cell_type": "code",
      "execution_count": null,
      "metadata": {
        "colab": {
          "base_uri": "https://localhost:8080/"
        },
        "id": "5Vi-mgTzbgz2",
        "outputId": "ba8470c3-9ae3-4d45-8ee5-5c869791970d"
      },
      "outputs": [],
      "source": [
        "X1, y1 = load_iris(return_X_y=True, as_frame=True)\n",
        "X1_train, X1_test, y1_train, y1_test = train_test_split(X1.values, y1.values, random_state=0)\n",
        "print(X1, y1, sep='\\n')"
      ]
    },
    {
      "cell_type": "code",
      "execution_count": null,
      "metadata": {
        "colab": {
          "base_uri": "https://localhost:8080/"
        },
        "id": "p8RRIoePPFU-",
        "outputId": "4211b106-6e58-495a-b374-6c2727833dc1"
      },
      "outputs": [],
      "source": [
        "X2, y2 = load_diabetes(return_X_y=True, as_frame=True)\n",
        "X2_train, X2_test, y2_train, y2_test = train_test_split(X2.values, y2.values, random_state=0)\n",
        "print(X2, y2, sep='\\n')"
      ]
    },
    {
      "cell_type": "markdown",
      "metadata": {
        "id": "fTgggW3hgerE"
      },
      "source": [
        "### **Обучение моделей и оценка полученных результатов**\n",
        "KNN показал хороший результат в случае классификации. Также можно заметить, что алгоритм способен выстраивать нелинейные решающие границы, что позволяет ему также достигать хороших результатов с данными, в которых прослеживается нелинейная зависимость.\n",
        "\n",
        "Однако, стоит обратить внимание на случай регрессии: низкий r2-score обусловлен небольшим числом ближайших соседей по умолчанию. Если увеличить число соседей до 30, то и r2-score увеличится более чем в 2 раза, что говорит о важности подбора оптимального числа ближайших соседей."
      ]
    },
    {
      "cell_type": "markdown",
      "metadata": {
        "id": "6MTvL4tCgou1"
      },
      "source": [
        "**KNN classifier**"
      ]
    },
    {
      "cell_type": "code",
      "execution_count": null,
      "metadata": {
        "colab": {
          "base_uri": "https://localhost:8080/"
        },
        "id": "dgMASeHeXgyW",
        "outputId": "1cc255c6-0c1a-4079-d0d0-e06d7514c4ce"
      },
      "outputs": [],
      "source": [
        "knn_clf = KNearestNeighbors()\n",
        "knn_clf.fit(X1_train, y1_train)\n",
        "knn_clf_pred_res = knn_clf.predict(X1_test)\n",
        "knn_clf_accuracy = accuracy_score(y1_test, knn_clf_pred_res)\n",
        "\n",
        "print(f'KNN classifier accuracy: {knn_clf_accuracy:}')\n",
        "print(knn_clf_pred_res)"
      ]
    },
    {
      "cell_type": "markdown",
      "metadata": {
        "id": "DD5qsKDPgw21"
      },
      "source": [
        "**KNN regressor**"
      ]
    },
    {
      "cell_type": "code",
      "execution_count": null,
      "metadata": {
        "colab": {
          "base_uri": "https://localhost:8080/"
        },
        "id": "alAqwUC4XkIn",
        "outputId": "ada21bac-e845-4f12-e45e-4dad112b6d47"
      },
      "outputs": [],
      "source": [
        "knn_reg = KNearestNeighbors(regression=True)\n",
        "knn_reg.fit(X2_train, y2_train)\n",
        "knn_reg_pred_res = knn_reg.predict(X2_test)\n",
        "knn_reg_r2 = r2_score(y2_test, knn_reg_pred_res)\n",
        "\n",
        "print(f'KNN regressor R2 score: {knn_reg_r2}')\n",
        "print(knn_reg_pred_res)"
      ]
    },
    {
      "cell_type": "markdown",
      "metadata": {
        "id": "OuLqVjGagz5o"
      },
      "source": [
        "**KNN classifier (scikit-learn)**"
      ]
    },
    {
      "cell_type": "code",
      "execution_count": null,
      "metadata": {
        "colab": {
          "base_uri": "https://localhost:8080/",
          "height": 524
        },
        "id": "_4Hu6EfjG7V7",
        "outputId": "2f850aa0-bdbc-4643-a9e2-0f0b0c75c46d"
      },
      "outputs": [],
      "source": [
        "sk_knn_clf = KNeighborsClassifier()\n",
        "sk_knn_clf.fit(X1_train, y1_train)\n",
        "sk_knn_clf_pred_res = sk_knn_clf.predict(X1_test)\n",
        "sk_knn_clf_accuracy = accuracy_score(y1_test, sk_knn_clf_pred_res)\n",
        "\n",
        "print(f'sk KNN classifier accuracy: {sk_knn_clf_accuracy:}')\n",
        "print(sk_knn_clf_pred_res)\n",
        "\n",
        "feature_indexes = [2, 3]\n",
        "title1 = 'KNeighborsClassifier surface'\n",
        "decision_boundary_plot(X1, y1, X1_train, y1_train, sk_knn_clf, feature_indexes, title1)"
      ]
    },
    {
      "cell_type": "markdown",
      "metadata": {
        "id": "PGMwHaBbg6qU"
      },
      "source": [
        "**KNN regressor (scikit-learn)**"
      ]
    },
    {
      "cell_type": "code",
      "execution_count": null,
      "metadata": {
        "colab": {
          "base_uri": "https://localhost:8080/"
        },
        "id": "2_5tgMykPj02",
        "outputId": "3ad2c1d3-a962-4f6d-b452-bfbb74fe9540"
      },
      "outputs": [],
      "source": [
        "sk_knn_reg = KNeighborsRegressor()\n",
        "sk_knn_reg.fit(X2_train, y2_train)\n",
        "sk_knn_reg_pred_res = sk_knn_reg.predict(X2_test)\n",
        "sk_knn_reg_r2 = r2_score(y2_test, sk_knn_reg_pred_res)\n",
        "\n",
        "print(f'sk KNN regressor R2 score: {sk_knn_reg_r2}')\n",
        "print(sk_knn_reg_pred_res)"
      ]
    },
    {
      "cell_type": "markdown",
      "metadata": {
        "id": "-ysvHcKrpRvV"
      },
      "source": [
        "### **Преимущества и недостатки KNN**\n",
        "Преимущества:\n",
        "- простота в реализации и интерпретации;\n",
        "- применяется во многих задачах, особенно в рекомендательных системах;\n",
        "- высокая точность прогнозов при правильном подборе k и метрики расстояния.\n",
        "\n",
        "Недостатки:\n",
        "- большое потребление памяти и низкая скорость работы из-за хранения и вычисления расстояний между всеми обучающими и тестовыми образцами (имеется в виду KNN в чистом виде);\n",
        "- чувствительность к выбросам и шуму, а также к несбалансированным классам в данных;\n",
        "- при большом количестве признаков может возникнуть проблема совпадения метрической и смысловой близости объектов, что решается с помощью обучения представлений (численное описание объектов)."
      ]
    },
    {
      "cell_type": "markdown",
      "metadata": {
        "id": "gxk4xzlrj2Xr"
      },
      "source": [
        "### **Дополнительные источники**\n",
        "Статьи:\n",
        "- «Brute-Force k-Nearest Neighbors Search on the GPU», Shengren Li and Nina Amenta;\n",
        "- «Unsupervised Space Partitioning for Nearest Neighbor Search», Abrar Fahim, Mohammed Eunus Ali and Muhammad Aamir Cheema;\n",
        "- «Five Balltree Construction Algorithms», Omohundro, S.M.;\n",
        "- «Ball*-tree: Efficient spatial indexing for constrained nearest-neighbor search in metric\n",
        "spaces», Mohamad Dolatshah, Ali Hadian and Behrouz Minaei-Bidgoli;\n",
        "- «Developments in KD Tree and KNN Searches», Vijay R. Tiwari.\n",
        "\n",
        "Документация:\n",
        "- [описание KNN](https://scikit-learn.org/stable/modules/neighbors.html#classification);\n",
        "- [KNeighborsClassifier](https://scikit-learn.org/stable/modules/generated/sklearn.neighbors.KNeighborsClassifier.html);\n",
        "- [KNeighborsRegressor](https://scikit-learn.org/stable/modules/generated/sklearn.neighbors.KNeighborsRegressor.html)\n",
        "- [NearestNeighbors](https://scikit-learn.org/stable/modules/generated/sklearn.neighbors.NearestNeighbors.html).\n",
        "\n",
        "Видео: [один](https://www.youtube.com/watch?v=gcM3QfVHhOo), [два](https://www.youtube.com/watch?v=09mb78oiPkA), [три](https://www.youtube.com/watch?v=fy40y3UFkNE).\n",
        "\n"
      ]
    }
  ],
  "metadata": {
    "colab": {
      "provenance": []
    },
    "kernelspec": {
      "display_name": "Python 3",
      "name": "python3"
    },
    "language_info": {
      "name": "python"
    }
  },
  "nbformat": 4,
  "nbformat_minor": 0
}
