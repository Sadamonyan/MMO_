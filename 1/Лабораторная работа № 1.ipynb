{
  "cells": [
    {
      "cell_type": "markdown",
      "metadata": {
        "id": "08IuYXtvQRGQ"
      },
      "source": [
        "# **Введение в машинное обучение**"
      ]
    },
    {
      "cell_type": "markdown",
      "metadata": {
        "id": "xQ4pKLebRlMV"
      },
      "source": [
        "*В рамках данной лабораторной работы настоятельно рекомендуется выполнить каждую ячейку с кодом для достижения полноты и корректности результатов.*"
      ]
    },
    {
      "cell_type": "markdown",
      "metadata": {
        "id": "Oqo0CxsOQRGS"
      },
      "source": [
        "# Где мы сейчас\n",
        "\n",
        "Мы находимся в **Jupyter Notebook**. Это интерактивная среда, в которой можно не только писать код, а создавать полноценный аналитический документ с кодом, комментариями, графиками, формулами.\n",
        "\n",
        "Файл, в котором мы работаем сейчас, называется **блокнотом**. Его стандартное расширение .ipynb, читать и запускать его можно через Jupyter Notebook. Но его можно скачать в виде html-страницы или pdf-документа."
      ]
    },
    {
      "cell_type": "markdown",
      "metadata": {
        "id": "tjTYctqgQRGS"
      },
      "source": [
        "# Как устроен Jupyter Notebook\n",
        "\n",
        "- Любой блокнот состоит из ячеек. Даже текущий текст написан в ячейке.<br>\n",
        "\n",
        "## Создание ячейки.\n",
        "- Чтобы создать новую ячейку, можно воспользоваться одной из следующих опций: <br>\n",
        "    1) воспользоваться кнопкой \"+\" на верхней панели управления;<br>\n",
        "    \n",
        "    2) с клавиатуры нажать на букву \"B\", и появится новая ячейка после текущей активной; <br>\n",
        "    3) с клавиатуры нажать на букву \"A\", и появится новая ячейка перед текущей активной. <br>\n",
        "\n",
        "## Изменение типа ячейки\n",
        "- Ячейки бывают двух типов: <br>\n",
        "    1) Кодовая<br>\n",
        "    2) Текстовая <br> <br>\n",
        "- Смена типа ячейки осуществляется через верхнюю панель управления, необходимо нажать на ячейку и выбрать ее тип\n",
        "\n",
        "## Редактирование ячейки\n",
        "\n",
        "- Ячейка, которая не активна, серого цвета\n",
        "- Ячейка активируется одним нажатием курсора и становится синего цвета\n",
        "- Ячейка переходит в режим редактирования двойным нажатием курсора и становится зеленого цвета\n",
        "\n",
        "## Запуск ячейки с кодом\n",
        "- Ячейка с кодом, которая еще не была ни разу запущена - слева в квадратных скобках [] пусто.\n",
        "\n",
        "- В последних версиях Jupyter Notebook при приближении к ячейке слева появляется кнопка проигрывания, которая запускает ячейку.\n",
        "\n",
        "- Запустить код можно также из панельной строки. Запускается код ячейки, которая была выбрана!\n",
        "\n",
        "- Если ячейка успешно запущена, то слева в квадратных скобках появляется число. Вот результат успешного выполнения команды:\n",
        "\n",
        "## Прерывание работы\n",
        "\n",
        "Иногда требуется искусственно остановить работу ячейки.\n",
        "\n",
        "- Можно нажать кнопку стоп при работе активной ячейки. Знак СТОП вверху.\n",
        "- Можно воспользоваться опцией в меню Kernel - Interrupt\n",
        "- Можно радикально \"перезагрузить\" ноутбук в меню Kernel - Restart and Clear Output"
      ]
    },
    {
      "cell_type": "markdown",
      "metadata": {
        "id": "1_lWlD7OQRGR"
      },
      "source": [
        "# Про Python\n",
        "\n",
        "**Python** - язык программирования общего назначения, т.е. на нем можно написать все, что угодно.\n",
        "\n",
        "1) Open-source, т.е. он свободно и бесплатно доступен <br>\n",
        "2) Много библиотек, т.е. кода, для работы со специфическими задачами.\n",
        "\n",
        "**Python** - это свободный интерпретируемый объектно-ориентированный расширяемый встраиваемый язык программирования очень высокого уровня (Г.Россум, Ф.Л.Дж.Дрейк, Д.С.Откидач \"Язык программирования Python\").\n",
        "\n",
        "Python - это язык, который могут читать и \"понимать\" разные программные средства.\n",
        "\n",
        "----------------------------"
      ]
    },
    {
      "cell_type": "markdown",
      "metadata": {
        "id": "Sqk8p3pjQRGS"
      },
      "source": [
        "Наиболее популярные библиотеки Python:\n",
        " - <a href=\"http://numpy.org\">Numpy</a> - это один из основных пакетов для научных вычислений. Он содержит функциональные средства для работы с многомерными массивами и высокоуровневыми математическими функциями.\n",
        " - <a href=\"https://scipy.org/\">SciPy</a> - научные вычисления. Методы оптимизации, интегрирования, модули обработки сигналов и изображений, статистика, линейная алгебра, сплайны, кластеризация и многое другое.\n",
        " -  <a href=\"http://pandas.pydata.org/\">Pandas</a> - библиотека для обработки и анализа данных. Предназначена для данных разной природы - матричных, панельных данных, временных рядов. Претендует на звание самого мощного и гибкого средства для анализа данных с открытым исходным кодом.\n",
        " - <a href=\"http://scikit-learn.org/stable/\">Scikit-learn</a> - реализация очень многих методов машинного обучения и интеллекуального анализа данных (data mining) с отличной документацией.\n",
        " - <a href=\"http://matplotlib.org/\">matplotlib</a> - библиотека для визаулизации данных, в основном двухмерная графика."
      ]
    },
    {
      "cell_type": "markdown",
      "metadata": {
        "id": "IvOc-QzuQRGS"
      },
      "source": [
        "# Основы Python\n",
        "\n",
        "Для прикладных целей важно овладеть несколькими аспектами:\n",
        "\n",
        "- Стандартные функции языка\n",
        "- Переменные и типы данных\n",
        "- Основные конструкции\n",
        "- Написание пользовательских функций\n",
        "- Загрузка и использование библиотек"
      ]
    },
    {
      "cell_type": "markdown",
      "metadata": {
        "id": "ceE5DFj3QRGS"
      },
      "source": [
        "## Стандартные функции языка\n",
        "\n",
        "Функции <b>вызываются</b>, после имени функции следуют круглые скобки, в которых указываются <b>аргументы</b> (над каким объектом будет выполнена операция) и <b>параметры </b> (с какими условиями)"
      ]
    },
    {
      "cell_type": "markdown",
      "metadata": {
        "id": "pHdLq20-QRGS"
      },
      "source": [
        "### print()\n",
        "Функция для вывода содержимого на экран. <br>\n",
        "**Обязательно**: передать хотя бы какой-то объект, который нужно напечатать.\n",
        "\n",
        "Ее полный синтаксис:\n",
        "\n",
        "print(*objects, sep=' ', end='\\n', file=sys.stdout, flush=False)¶\n",
        "- objects: один или несколько объектов для вывода, перечисленные через запятую\n",
        "- sep: разделитель между несколькими объектами; стандартно установлен пробел\n",
        "- end: окончание строки; стандартно установлен перевод на новую строчку '\\n'"
      ]
    },
    {
      "cell_type": "code",
      "execution_count": 33,
      "metadata": {
        "id": "RGstRUTnQRGT"
      },
      "outputs": [
        {
          "name": "stdout",
          "output_type": "stream",
          "text": [
            "5\n"
          ]
        }
      ],
      "source": [
        "print(5)"
      ]
    },
    {
      "cell_type": "code",
      "execution_count": 34,
      "metadata": {
        "id": "kXyGLVXEQRGT"
      },
      "outputs": [
        {
          "name": "stdout",
          "output_type": "stream",
          "text": [
            "5 6 7 8\n"
          ]
        }
      ],
      "source": [
        "print(5, 6, 7, 8)"
      ]
    },
    {
      "cell_type": "code",
      "execution_count": 35,
      "metadata": {
        "id": "L_XilrJ-QRGT"
      },
      "outputs": [
        {
          "name": "stdout",
          "output_type": "stream",
          "text": [
            "5_6_7_8\n"
          ]
        }
      ],
      "source": [
        "print(5, 6, 7, 8, sep='_')"
      ]
    },
    {
      "cell_type": "code",
      "execution_count": 36,
      "metadata": {
        "id": "v3NTHzN0QRGU"
      },
      "outputs": [
        {
          "name": "stdout",
          "output_type": "stream",
          "text": [
            "October\n"
          ]
        }
      ],
      "source": [
        "print('October')"
      ]
    },
    {
      "cell_type": "markdown",
      "metadata": {
        "id": "CLGPcZAZQRGU"
      },
      "source": [
        "#### ⚡**Задача 1**\n",
        "\n",
        "Выведите на экран фразу \"Hello, world!\""
      ]
    },
    {
      "cell_type": "code",
      "execution_count": 37,
      "metadata": {
        "id": "5eOzp_3kQRGU"
      },
      "outputs": [
        {
          "name": "stdout",
          "output_type": "stream",
          "text": [
            "Hello, world!\n"
          ]
        }
      ],
      "source": [
        "print('Hello, world!')"
      ]
    },
    {
      "cell_type": "markdown",
      "metadata": {
        "id": "3GOWV2cjQRGU"
      },
      "source": [
        "### input()\n",
        "Функция для ввода данных в программу с клавиатуры. <br>\n",
        "Обязательных аргументов нет. Можно передавать строчку, которая будет выведена перед ячейкой ввода."
      ]
    },
    {
      "cell_type": "code",
      "execution_count": 38,
      "metadata": {
        "id": "AfoMF-i6QRGU"
      },
      "outputs": [
        {
          "name": "stdout",
          "output_type": "stream",
          "text": [
            "3\n"
          ]
        }
      ],
      "source": [
        "name = input()\n",
        "print(name)"
      ]
    },
    {
      "cell_type": "markdown",
      "metadata": {
        "id": "9EcelhJmQRGU"
      },
      "source": [
        "А следующее небольшое преобразование позволит вывести перед ячейкой ввода нужный текст"
      ]
    },
    {
      "cell_type": "code",
      "execution_count": 39,
      "metadata": {
        "id": "TxP0k4shQRGU"
      },
      "outputs": [
        {
          "name": "stdout",
          "output_type": "stream",
          "text": [
            "3\n"
          ]
        }
      ],
      "source": [
        "name = input('Введите ваше имя: ')\n",
        "print(name)"
      ]
    },
    {
      "cell_type": "markdown",
      "metadata": {
        "id": "85b-PF8dQRGU"
      },
      "source": [
        "### Арифметические операции\n",
        "- Сложение: +\n",
        "- Вычитание: -\n",
        "- Умножение: *\n",
        "- Деление: /\n",
        "- Возведение в степень: **\n",
        "- Целочисленное деление: //\n",
        "- Остаток от деления: %"
      ]
    },
    {
      "cell_type": "code",
      "execution_count": 40,
      "metadata": {
        "id": "Vv-SEmh2QRGU"
      },
      "outputs": [
        {
          "name": "stdout",
          "output_type": "stream",
          "text": [
            "Работаем с числами 5 и 2\n",
            "7\n",
            "3\n",
            "10\n",
            "2.5\n",
            "2\n",
            "Результат остатка от деления: 1\n",
            "Результат возведения в степени: 25\n"
          ]
        }
      ],
      "source": [
        "print('Работаем с числами', 5, 'и', 2)\n",
        "print(5 + 2)\n",
        "print(5 - 2)\n",
        "print(5*2)\n",
        "print(5 / 2)\n",
        "print( 5 // 2)\n",
        "print('Результат остатка от деления:', 5 % 2)\n",
        "print('Результат возведения в степени:', 5**2)"
      ]
    },
    {
      "cell_type": "markdown",
      "metadata": {
        "id": "Y3HZk4DoQRGU"
      },
      "source": [
        "#### ⚡**Задача 2**\n",
        "\n",
        "Рассчитайте итоговую сумму инвестиций.\n",
        "\n",
        "Предположим, что у вас есть $150, которые можно инвестировать под 3% годовых.\n",
        "\n",
        "Используя формулу *сложного процента*, напишите код на Python для вычисления итоговой суммы и выведите результат на экран."
      ]
    },
    {
      "cell_type": "code",
      "execution_count": 41,
      "metadata": {
        "id": "NDrtu6oeQRGV"
      },
      "outputs": [
        {
          "name": "stdout",
          "output_type": "stream",
          "text": [
            "Итоговая сумма: 154.5\n"
          ]
        }
      ],
      "source": [
        "P = 150\n",
        "r = 0.03\n",
        "n = 1\n",
        "\n",
        "S = P * (1 + r) ** n\n",
        "print(\"Итоговая сумма:\", round(S, 2))\n"
      ]
    },
    {
      "cell_type": "markdown",
      "metadata": {
        "id": "GGG0cGIiQRGV"
      },
      "source": [
        "### Переменные и типы переменных\n",
        "\n",
        "Результаты операций и манипуляций иногда нужно сохранять, поэтому мы определяем переменные - именованные объекты, которым присваиваем значения."
      ]
    },
    {
      "cell_type": "code",
      "execution_count": 42,
      "metadata": {
        "id": "HbyAYLCIQRGV"
      },
      "outputs": [],
      "source": [
        "savings_2017 = 2000\n",
        "savings_2016 = 1800\n",
        "increase = ((2000 - 1800) / 1800)*100"
      ]
    },
    {
      "cell_type": "code",
      "execution_count": 43,
      "metadata": {
        "id": "lR_4BPMkQRGV"
      },
      "outputs": [
        {
          "name": "stdout",
          "output_type": "stream",
          "text": [
            "11%\n"
          ]
        }
      ],
      "source": [
        "#Вывести на печать % роста накоплений\n",
        "print(round(increase), '%', sep='')"
      ]
    },
    {
      "cell_type": "markdown",
      "metadata": {
        "id": "kXP_4GqcQRGV"
      },
      "source": [
        "#### ⚡**Задача 3**\n",
        "\n",
        "Представим, что у нас в активе $100, которые можно инвестировать с 10%-ным ежегодным доходом. <br>\n",
        "Сколько денег мы заработаем через 7 лет?\n",
        "\n",
        "- Создайте переменную savings со значением 100\n",
        "- Создайте переменную rate, которая отвечает за ежегодный рост\n",
        "- Сохраните результат вычисления в переменную result\n",
        "- Выведите на печать результаты"
      ]
    },
    {
      "cell_type": "code",
      "execution_count": 44,
      "metadata": {
        "id": "ZhCqspOvUvWk"
      },
      "outputs": [
        {
          "name": "stdout",
          "output_type": "stream",
          "text": [
            "Результат: 194.87\n"
          ]
        }
      ],
      "source": [
        "savings = 100\n",
        "rate = 0.10\n",
        "years = 7\n",
        "\n",
        "result = savings * (1 + rate) ** years\n",
        "print(\"Результат:\", round(result, 2))"
      ]
    },
    {
      "cell_type": "markdown",
      "metadata": {
        "id": "6tfUzZ2gQRGV"
      },
      "source": [
        "Функция **type** позволяет определить, какого типа переменная нам дана или какого типа переменную мы записали."
      ]
    },
    {
      "cell_type": "code",
      "execution_count": 45,
      "metadata": {
        "id": "roQUbnBDQRGV"
      },
      "outputs": [
        {
          "name": "stdout",
          "output_type": "stream",
          "text": [
            "<class 'int'>\n",
            "<class 'float'>\n"
          ]
        }
      ],
      "source": [
        "print(type(savings_2017))\n",
        "print(type(increase))"
      ]
    },
    {
      "cell_type": "code",
      "execution_count": 46,
      "metadata": {
        "id": "4zKHnfkiQRGV"
      },
      "outputs": [
        {
          "name": "stdout",
          "output_type": "stream",
          "text": [
            "<class 'str'>\n"
          ]
        }
      ],
      "source": [
        "text = 'Monatery Savings in 2017'\n",
        "print(type(text))"
      ]
    },
    {
      "cell_type": "code",
      "execution_count": 47,
      "metadata": {
        "id": "YQKz7mRdQRGV"
      },
      "outputs": [
        {
          "name": "stdout",
          "output_type": "stream",
          "text": [
            "<class 'bool'>\n"
          ]
        }
      ],
      "source": [
        "x = False\n",
        "print(type(x))"
      ]
    },
    {
      "cell_type": "markdown",
      "metadata": {
        "id": "M3s9cbgqQRGV"
      },
      "source": [
        "Если нужно поменять тип переменной, то полезны функции:\n",
        "\n",
        "- int() - возвращает целочисленную переменную\n",
        "- float() - возвращает нецелочисленную переменную\n",
        "- bool() - возвращает булеву переменную\n",
        "- str() - возвращает строковую переменную"
      ]
    },
    {
      "cell_type": "code",
      "execution_count": 48,
      "metadata": {
        "id": "Ey0x9cK4QRGV"
      },
      "outputs": [
        {
          "name": "stdout",
          "output_type": "stream",
          "text": [
            "2000 <class 'int'>\n",
            "2000 <class 'str'>\n",
            "Savings in 2017: 2000\n"
          ]
        }
      ],
      "source": [
        "print(savings_2017, type(savings_2017))\n",
        "savings_2017_new = str(savings_2017)\n",
        "print(savings_2017_new, type(savings_2017_new))\n",
        "print('Savings ' +  'in 2017: ' + savings_2017_new)"
      ]
    },
    {
      "cell_type": "code",
      "execution_count": 49,
      "metadata": {
        "id": "Sdige-1EQRGW"
      },
      "outputs": [
        {
          "name": "stdout",
          "output_type": "stream",
          "text": [
            "200\n"
          ]
        }
      ],
      "source": [
        "print(int(savings_2017_new) - savings_2016)"
      ]
    },
    {
      "cell_type": "markdown",
      "metadata": {
        "id": "HN7GGCqnQRGW"
      },
      "source": [
        "#### ⚡ **Задача 4**\n",
        "\n",
        "Поправьте строчку кода так, чтобы она работала:"
      ]
    },
    {
      "cell_type": "code",
      "execution_count": 50,
      "metadata": {
        "id": "bqlco1dFQRGW"
      },
      "outputs": [
        {
          "name": "stdout",
          "output_type": "stream",
          "text": [
            "I started with $100 and now have $194.87171000000012. Not good!\n"
          ]
        }
      ],
      "source": [
        "savings = 100 \n",
        "result = savings * (1 + rate) ** years\n",
        "\n",
        "print(\"I started with $\" + str(savings) + \" and now have $\" + str(result) + \". Not good!\")\n"
      ]
    },
    {
      "cell_type": "markdown",
      "metadata": {
        "id": "W_2tfWLEQRGW"
      },
      "source": [
        "### Списки\n",
        "\n",
        "Четыре рассмотренных типа данных устроены так, что в одной переменной записано одно значение:\n",
        "- int: целое число\n",
        "- float: число с дробной частью\n",
        "- str: текст\n",
        "- bool: логическая переменная\n",
        "\n",
        "Например, если мы хотим зафиксировать накопления членов семьи, мы можем создать ряд переменных и вписать туда информацию"
      ]
    },
    {
      "cell_type": "code",
      "execution_count": 51,
      "metadata": {
        "id": "JX5tRKzBQRGW"
      },
      "outputs": [],
      "source": [
        "savings1 = 500\n",
        "savings2 = 1000\n",
        "savings3 = 746\n",
        "savings4 = 456"
      ]
    },
    {
      "cell_type": "markdown",
      "metadata": {
        "id": "jcjRC9HsQRGW"
      },
      "source": [
        "Но это не очень удобно, мы можем записать всю информацию в одной переменной:"
      ]
    },
    {
      "cell_type": "code",
      "execution_count": 52,
      "metadata": {
        "id": "9CnxBvuIQRGX"
      },
      "outputs": [],
      "source": [
        "savings_family = [500, 1000, 746, 2000]"
      ]
    },
    {
      "cell_type": "markdown",
      "metadata": {
        "id": "LhnLw-TDQRGX"
      },
      "source": [
        "Эта конструкция называется списком (list) и является отдельным типом данных."
      ]
    },
    {
      "cell_type": "code",
      "execution_count": 53,
      "metadata": {
        "id": "O2vYgn9tQRGX"
      },
      "outputs": [],
      "source": [
        "savings_family = ['mom', 500,'dad', 1000, 'brother', 746, 'me', 2000]"
      ]
    },
    {
      "cell_type": "markdown",
      "metadata": {
        "id": "S0MkgWwMQRGX"
      },
      "source": [
        "А здесь - список со списками:"
      ]
    },
    {
      "cell_type": "code",
      "execution_count": 54,
      "metadata": {
        "id": "wGl9GuHCQRGX"
      },
      "outputs": [],
      "source": [
        "savings_family = [['mom', 500], ['dad', 1000], ['brother', 746], ['me', 2000]]"
      ]
    },
    {
      "cell_type": "code",
      "execution_count": 55,
      "metadata": {
        "id": "kSD3ON-PQRGX"
      },
      "outputs": [
        {
          "name": "stdout",
          "output_type": "stream",
          "text": [
            "4246\n"
          ]
        }
      ],
      "source": [
        "s = 0\n",
        "for member in savings_family:\n",
        "    s = s + member[1]\n",
        "print(s)"
      ]
    },
    {
      "cell_type": "code",
      "execution_count": 56,
      "metadata": {
        "id": "kLyl19QUQRGX"
      },
      "outputs": [
        {
          "name": "stdout",
          "output_type": "stream",
          "text": [
            "[['mom', 500], ['dad', 1000], ['brother', 746], ['me', 2000]]\n"
          ]
        }
      ],
      "source": [
        "print(savings_family)"
      ]
    },
    {
      "cell_type": "markdown",
      "metadata": {
        "id": "vrurwF4YQRGX"
      },
      "source": [
        "#### ⚡**Задача 5**\n",
        "\n",
        "Создайте список home, в котором записан название и метраж комнат в доме. Распечатайте список."
      ]
    },
    {
      "cell_type": "code",
      "execution_count": 57,
      "metadata": {
        "id": "o3kMO37iV5me"
      },
      "outputs": [
        {
          "name": "stdout",
          "output_type": "stream",
          "text": [
            "['Living room', 20, 'Kitchen', 15, 'Bedroom', 12, 'Bathroom', 5]\n"
          ]
        }
      ],
      "source": [
        "home = [\"Living room\", 20, \"Kitchen\", 15, \"Bedroom\", 12, \"Bathroom\", 5]\n",
        "print(home)"
      ]
    },
    {
      "cell_type": "markdown",
      "metadata": {
        "id": "fWulmLrJQRGX"
      },
      "source": [
        "К элементам списка можно обращаться по индексу:"
      ]
    },
    {
      "cell_type": "markdown",
      "metadata": {
        "id": "RzFNUjOZQRGY"
      },
      "source": [
        "Методы для работы со списками:\n",
        "\n",
        "- list.append(x)\tДобавляет элемент в конец списка\n",
        "- list.extend(L)\tРасширяет список list, добавляя в конец все элементы списка L\n",
        "- list.insert(i, x)\tВставляет на i-ый элемент значение x\n",
        "- list.remove(x)\tУдаляет первый элемент в списке, имеющий значение x. ValueError, если такого элемента не существует\n",
        "- list.pop([i])\tУдаляет i-ый элемент и возвращает его. Если индекс не указан, удаляется последний элемент\n",
        "- list.index(x, [start [, end]])\tВозвращает положение первого элемента со значением x (при этом поиск ведется от start до end)\n",
        "- list.count(x)\tВозвращает количество элементов со значением x\n",
        "- list.sort([key=функция])\tСортирует список на основе функции\n",
        "- list.reverse()\tРазворачивает список\n",
        "- list.copy()\tПоверхностная копия списка\n",
        "- list.clear()\tОчищает список"
      ]
    },
    {
      "cell_type": "code",
      "execution_count": 58,
      "metadata": {
        "id": "VmAINUCDQRGY"
      },
      "outputs": [
        {
          "name": "stdout",
          "output_type": "stream",
          "text": [
            "[['mom', 500], ['dad', 1000], ['brother', 746]]\n"
          ]
        }
      ],
      "source": [
        "#удаляем запись про последнего члена семьи\n",
        "savings_family.pop()\n",
        "print(savings_family)"
      ]
    },
    {
      "cell_type": "code",
      "execution_count": 59,
      "metadata": {
        "id": "CZYnMtfqQRGY"
      },
      "outputs": [],
      "source": [
        "#а теперь добавим\n",
        "savings_family.append(['me', 2000])"
      ]
    },
    {
      "cell_type": "code",
      "execution_count": 60,
      "metadata": {
        "id": "4tJNDYH8QRGY"
      },
      "outputs": [],
      "source": [
        "#Создайте список из двух списков, в котором хранится информация о сбережениях дяди в 3000 и о сбережениях тети в 10000\n",
        "savings_relatives = [['uncle', 4000], ['aunt', 10000]]"
      ]
    },
    {
      "cell_type": "code",
      "execution_count": 61,
      "metadata": {
        "id": "LJujAuy-QRGY"
      },
      "outputs": [
        {
          "name": "stdout",
          "output_type": "stream",
          "text": [
            "[['mom', 500], ['dad', 1000], ['brother', 746], ['me', 2000], ['uncle', 4000], ['aunt', 10000]]\n"
          ]
        }
      ],
      "source": [
        "savings_family.extend(savings_relatives)\n",
        "print(savings_family)"
      ]
    },
    {
      "cell_type": "markdown",
      "metadata": {
        "id": "QKwLo-cuQRGY"
      },
      "source": [
        "#### ⚡**Задача 6**\n",
        "\n",
        "Посчитайте сумму сбережений всей семьи"
      ]
    },
    {
      "cell_type": "code",
      "execution_count": 62,
      "metadata": {
        "id": "JumydHz9QRGY"
      },
      "outputs": [
        {
          "name": "stdout",
          "output_type": "stream",
          "text": [
            "Сумма сбережений: 4246\n"
          ]
        }
      ],
      "source": [
        "savings_family = [['mom', 500], ['dad', 1000], ['brother', 746], ['me', 2000]]\n",
        "total_savings = sum(member[1] for member in savings_family)\n",
        "print(\"Сумма сбережений:\", total_savings)"
      ]
    },
    {
      "cell_type": "markdown",
      "metadata": {
        "id": "DA0xtS1zQRGY"
      },
      "source": [
        "## Основные конструкции языка\n",
        "\n",
        "### Логические выражения\n",
        "\n",
        "По аналогии с арифметическими выражениями существуют логические выражения, которые могут быть истинными или ложными. Простое логическое выражение имеет вид <br />\n",
        "\n",
        "<арифметическое выражение> <знак сравнения> <арифметическое выражение>. <br />\n",
        "\n",
        "Например, если у нас есть переменные x и y с какими-то значениями, то логическое выражение <br /> x + y < 3y <br /> в качестве первого арифметического выражения имеет x + y, в качестве знака сравнения < (меньше), а второе арифметическое выражение в нём 3y.\n",
        "\n",
        "<center>\n",
        "    <table>\n",
        "        <tr>\n",
        "            <th>Логическое выражение </th>\n",
        "            <th> Значение </th>\n",
        "        </tr>\n",
        "        <tr><td>&lt;</td><td> Меньше</td></tr>\n",
        "        <tr><td>&gt;</td><td> Больше</td></tr>\n",
        "        <tr><td>&lt;=</td><td> Меньше или равно</td></tr>\n",
        "        <tr><td>&gt;=</td><td> Больше или равно</td></tr>\n",
        "        <tr><td>==</td><td> Равно </td></tr>\n",
        "        <tr><td>!=</td><td> Не равно</td></tr>\n",
        "    </table>\n",
        "</center>"
      ]
    },
    {
      "cell_type": "code",
      "execution_count": 63,
      "metadata": {
        "id": "22-QTpweQRGZ"
      },
      "outputs": [
        {
          "name": "stdout",
          "output_type": "stream",
          "text": [
            "<class 'bool'>\n",
            "False\n",
            "0\n"
          ]
        }
      ],
      "source": [
        "x = 1 > 2\n",
        "print(type(x))\n",
        "print(x)\n",
        "print(int(x))"
      ]
    },
    {
      "cell_type": "markdown",
      "metadata": {
        "id": "LfV_el2FQRGZ"
      },
      "source": [
        "Чтобы записать сложное логическое выражение, часто бывает необходимо воспользоваться логическими связками \"и\", \"или\" и \"не\". В Python они обозначаются как and, or и not соответственно. Операции and и or являются бинарными, т.е. должны быть записаны между операндами, например x < 3 or y > 2. Операция not - унарная и должна быть записана перед единственным своим операндом."
      ]
    },
    {
      "cell_type": "code",
      "execution_count": 64,
      "metadata": {
        "id": "d3ulie5bQRGZ"
      },
      "outputs": [
        {
          "name": "stdout",
          "output_type": "stream",
          "text": [
            "True\n",
            "False\n"
          ]
        }
      ],
      "source": [
        "x = int(input())\n",
        "y = int(input())\n",
        "z = int(input())\n",
        "print(x == y)\n",
        "print(x > y and y < z)"
      ]
    },
    {
      "cell_type": "markdown",
      "metadata": {
        "id": "HFa6oZ-5QRGZ"
      },
      "source": [
        "#### ⚡**Задача 7**\n",
        "\n",
        "Сравните, больше ли x 10. Результат выведите."
      ]
    },
    {
      "cell_type": "code",
      "execution_count": 65,
      "metadata": {
        "id": "zIWSVegkQRGZ"
      },
      "outputs": [
        {
          "name": "stdout",
          "output_type": "stream",
          "text": [
            "False\n"
          ]
        }
      ],
      "source": [
        "x = 7\n",
        "print(x > 10)"
      ]
    },
    {
      "cell_type": "markdown",
      "metadata": {
        "id": "gVXffvj6QRGZ"
      },
      "source": [
        "⚡**Задача 8**\n",
        "\n",
        "Сбережения мамы попадают в интервал с 300 до 500?\n",
        "\n",
        "Напишите логическое выражение, проверяющее это условие:\n"
      ]
    },
    {
      "cell_type": "code",
      "execution_count": 66,
      "metadata": {
        "id": "iGGdPqOZQRGZ"
      },
      "outputs": [
        {
          "name": "stdout",
          "output_type": "stream",
          "text": [
            "True\n"
          ]
        }
      ],
      "source": [
        "mom_savings = 500  # из savings_family\n",
        "print(300 <= mom_savings <= 500)\n"
      ]
    },
    {
      "cell_type": "markdown",
      "metadata": {
        "id": "E_XF5pDrQRGZ"
      },
      "source": [
        "\n",
        "### Условный оператор"
      ]
    },
    {
      "cell_type": "markdown",
      "metadata": {
        "id": "pTQSIArsQRGa"
      },
      "source": [
        "Наиболее частое применение логические выражения находят в условных операторах.\n",
        "\n",
        "Синтаксис в Python: <br />\n",
        "**if** условие1:<br />\n",
        "&emsp; команды<br />\n",
        "**elif** условие2:<br />\n",
        "&emsp; команды<br />\n",
        "**elif** условие3:<br />\n",
        "&emsp; команды<br />\n",
        "**else**: <br />\n",
        "&emsp; команды<br />"
      ]
    },
    {
      "cell_type": "code",
      "execution_count": 67,
      "metadata": {
        "id": "5dJA25n1QRGa"
      },
      "outputs": [
        {
          "name": "stdout",
          "output_type": "stream",
          "text": [
            " \n",
            "Y не меньше, чем X\n"
          ]
        }
      ],
      "source": [
        "x = 5\n",
        "y = 7\n",
        "if x > y:\n",
        "    print('X больше Y')\n",
        "    print(x - y)\n",
        "else:\n",
        "    print(' ')\n",
        "    print('Y не меньше, чем X')"
      ]
    },
    {
      "cell_type": "code",
      "execution_count": 68,
      "metadata": {
        "id": "N46AUDLyQRGa"
      },
      "outputs": [
        {
          "name": "stdout",
          "output_type": "stream",
          "text": [
            "X равно Y\n"
          ]
        }
      ],
      "source": [
        "x = int(input())\n",
        "y = int(input())\n",
        "if x > y:\n",
        "    print('X больше Y')\n",
        "    print(x - y)\n",
        "elif y > x:\n",
        "    print('Y больше X')\n",
        "    print(y - x)\n",
        "else:\n",
        "    print('X равно Y')"
      ]
    },
    {
      "cell_type": "markdown",
      "metadata": {
        "id": "W1NVSZgQQRGa"
      },
      "source": [
        "#### ⚡**Задачи 9-10**\n",
        "\n",
        "1) Дана площадь кухни. Если она превышает 15 кв.м, то должна появиться строчка \"Кухня большая!\", в противном случае - \"Кухня маленькая\""
      ]
    },
    {
      "cell_type": "code",
      "execution_count": 69,
      "metadata": {
        "id": "0KHPDtzTQRGa"
      },
      "outputs": [
        {
          "name": "stdout",
          "output_type": "stream",
          "text": [
            "Кухня маленькая\n"
          ]
        }
      ],
      "source": [
        "room = \"kit\"\n",
        "area = 14.0\n",
        "\n",
        "if area > 15:\n",
        "    print(\"Кухня большая!\")\n",
        "else:\n",
        "    print(\"Кухня маленькая\")"
      ]
    },
    {
      "cell_type": "markdown",
      "metadata": {
        "id": "RgLi3F77QRGa"
      },
      "source": [
        "2) Дано натуральное число. Требуется определить, является ли год с данным номером високосным. Если год является високосным, то выведите YES, иначе выведите NO. Напомним, что в соответствии с григорианским календарем, год является високосным, если его номер кратен 4, но не кратен 100, а также если он кратен 400."
      ]
    },
    {
      "cell_type": "code",
      "execution_count": 70,
      "metadata": {
        "id": "770bM603QRGa"
      },
      "outputs": [
        {
          "name": "stdout",
          "output_type": "stream",
          "text": [
            "NO\n"
          ]
        }
      ],
      "source": [
        "year = int(input(\"Введите год: \"))\n",
        "if (year % 4 == 0 and year % 100 != 0) or (year % 400 == 0):\n",
        "    print(\"YES\")\n",
        "else:\n",
        "    print(\"NO\")"
      ]
    },
    {
      "cell_type": "markdown",
      "metadata": {
        "id": "svu9vtfHQRGa"
      },
      "source": [
        "### Цикл while\n",
        "\n",
        "Как только строчка кода выполнилась, она \"забывается\", т.е. чтобы повторить это действие, нужно явно прописать еще раз. Для многократного повторения одних и тех же действий используются циклические конструкции.\n",
        "\n",
        "While переводится как \"пока\" и позволяет выполнять команды, до тех пор, пока условие верно. После окончания выполнения блока команд, относящихся к while, управление возвращается на строку с условием и, если оно выполнено, то выполнение блока команд повторяется, а если не выполнено, то продолжается выполнение команд, записанных после while.\n",
        "\n",
        "Важно случайно не сделать бесконечный цикл!\n",
        "\n",
        "**while** условие1:<br />\n",
        "&emsp; команды<br />\n",
        "\n",
        "Все команды пишутся с отступом."
      ]
    },
    {
      "cell_type": "code",
      "execution_count": 71,
      "metadata": {
        "id": "mMDaThYSQRGa",
        "scrolled": true
      },
      "outputs": [
        {
          "name": "stdout",
          "output_type": "stream",
          "text": [
            "The weather is OK.\n",
            "The weather is OK.\n",
            "The weather is OK.\n",
            "The weather is OK.\n",
            "The weather is OK.\n"
          ]
        }
      ],
      "source": [
        "# Нажать на стоп, чтобы прекратить воспроизведение\n",
        "temperature = 5\n",
        "while temperature > 0:\n",
        "    print('The weather is OK.')\n",
        "    temperature -= 1  # Уменьшаем значение temperature на 1"
      ]
    },
    {
      "cell_type": "markdown",
      "metadata": {
        "id": "ycf-UlNIQRGb"
      },
      "source": [
        "#### ⚡**Задача 11**\n",
        "\n",
        "По данному целому числу N распечатайте квадраты всех чисел, предшествующих N (включая N), в порядке убывания\n",
        "\n",
        "**Образец**\n",
        "\n",
        "Входные данные: <br />\n",
        "3\n",
        "\n",
        "Вывод программы: <br />\n",
        "9<br />\n",
        "4<br />\n",
        "1<br />"
      ]
    },
    {
      "cell_type": "code",
      "execution_count": 72,
      "metadata": {},
      "outputs": [
        {
          "name": "stdout",
          "output_type": "stream",
          "text": [
            "9\n",
            "4\n",
            "1\n"
          ]
        }
      ],
      "source": [
        "N = int(input(\"Введите число: \"))\n",
        "while N > 0:\n",
        "    print(N**2)\n",
        "    N -= 1"
      ]
    },
    {
      "cell_type": "markdown",
      "metadata": {
        "id": "D2KJqmbnQRGb"
      },
      "source": [
        "\n",
        "### Цикл for"
      ]
    },
    {
      "cell_type": "markdown",
      "metadata": {
        "id": "XlDPorQ2QRGb"
      },
      "source": [
        "#### Функция range(n)\n",
        "Создается объект класса range, внутри которого содержится арифметическая прогрессия в заданных диапазонах и с определенным шагом\n",
        "\n",
        "Ее синтаксис:\n",
        "- range(start, stop[, step])"
      ]
    },
    {
      "cell_type": "code",
      "execution_count": 73,
      "metadata": {
        "id": "ayJrIKP0QRGb"
      },
      "outputs": [
        {
          "name": "stdout",
          "output_type": "stream",
          "text": [
            "range(0, 5)\n",
            "[0, 1, 2, 3, 4]\n",
            "[2, 3, 4, 5, 6]\n",
            "[2, 4]\n"
          ]
        }
      ],
      "source": [
        "print(range(5))\n",
        "print(list(range(5)))\n",
        "print(list(range(2, 7)))\n",
        "print(list(range(2, 6, 2)))"
      ]
    },
    {
      "cell_type": "markdown",
      "metadata": {
        "id": "pq5ZTFTsQRGb"
      },
      "source": [
        "## Цикл for\n",
        "Цикл for позволяет поочередно перебрать элементы из чего-нибудь итерируемого.\n",
        "\n",
        "Ее синтаксис: <br />\n",
        "**for** i **in** диапазон изменений i:<br />\n",
        "&emsp; команды\n",
        "\n",
        "Все команды пишутся с отступом"
      ]
    },
    {
      "cell_type": "code",
      "execution_count": 74,
      "metadata": {
        "id": "YcgiMJseQRGb"
      },
      "outputs": [
        {
          "name": "stdout",
          "output_type": "stream",
          "text": [
            "0\n",
            "1\n",
            "4\n",
            "9\n",
            "16\n",
            "25\n"
          ]
        }
      ],
      "source": [
        "n = 5\n",
        "for i in range(n + 1):\n",
        "    print(i**2)"
      ]
    },
    {
      "cell_type": "code",
      "execution_count": 75,
      "metadata": {
        "id": "OG_ZmCYtQRGb"
      },
      "outputs": [
        {
          "name": "stdout",
          "output_type": "stream",
          "text": [
            "red apple\n",
            "green apple\n",
            "yellow apple\n"
          ]
        }
      ],
      "source": [
        "for color in ['red', 'green', 'yellow']:\n",
        "    print(color, 'apple')"
      ]
    },
    {
      "cell_type": "markdown",
      "metadata": {
        "id": "ypcogK1kQRGb"
      },
      "source": [
        "#### ⚡**Задача 12**\n",
        "\n",
        "Выведите сумму сбережений всех членов семьи из листа savings_family в цикле for"
      ]
    },
    {
      "cell_type": "code",
      "execution_count": 76,
      "metadata": {
        "id": "OWPJ376UQRGc"
      },
      "outputs": [
        {
          "name": "stdout",
          "output_type": "stream",
          "text": [
            "Сумма сбережений: 4246\n"
          ]
        }
      ],
      "source": [
        "savings_family = [['mom', 500], ['dad', 1000], ['brother', 746], ['me', 2000]]\n",
        "total_savings = 0\n",
        "for member in savings_family:\n",
        "    total_savings += member[1]\n",
        "print(\"Сумма сбережений:\", total_savings)"
      ]
    },
    {
      "cell_type": "markdown",
      "metadata": {
        "id": "J1dx0y4SQRGc"
      },
      "source": [
        "## Написание функций\n",
        "\n",
        "Если какие-то операции надо повторять из раза в раз и нет готовых функций, то можно создать свою.\n",
        "\n",
        "Синтаксис: <br />\n",
        "**def** название функции(список аргументов):<br />\n",
        "&emsp; команды<br />\n",
        "&emsp; **return** результат выполнения функции<br />\n",
        "\n",
        "Все команды пишутся с отступом.\n",
        "\n",
        "Функция должна быть записана в любом месте до ее первого вызова."
      ]
    },
    {
      "cell_type": "code",
      "execution_count": 77,
      "metadata": {
        "id": "5JOiLmuSQRGc"
      },
      "outputs": [
        {
          "name": "stdout",
          "output_type": "stream",
          "text": [
            "27\n"
          ]
        }
      ],
      "source": [
        "def power(number, p):\n",
        "    result = number**p\n",
        "    return result\n",
        "\n",
        "number = int(input())\n",
        "p = int(input())\n",
        "print(power(number, p))"
      ]
    },
    {
      "cell_type": "code",
      "execution_count": 78,
      "metadata": {
        "id": "w4kaduvRQRGc"
      },
      "outputs": [
        {
          "data": {
            "text/plain": [
              "7776"
            ]
          },
          "execution_count": 78,
          "metadata": {},
          "output_type": "execute_result"
        }
      ],
      "source": [
        "6**5"
      ]
    },
    {
      "cell_type": "markdown",
      "metadata": {
        "id": "yRsNnLmyQRGc"
      },
      "source": [
        "#### ⚡**Задача 13**\n",
        "\n",
        "Напишите функцию, которая считает площадь треугольника по трем сторонам. Стороны вводятся вне функции. <br />\n",
        "Подсказка: используйте формулу Герона\n",
        "$$ S = \\sqrt{p(p-a)(p-b)(p-c)} $$\n",
        "$$ p = \\frac{a + b + c}{2}$$\n",
        "**Образец**\n",
        "\n",
        "Входные данные:<br />\n",
        "3\n",
        "4\n",
        "5\n",
        "\n",
        "Вывод программы: <br />\n",
        "6"
      ]
    },
    {
      "cell_type": "code",
      "execution_count": 79,
      "metadata": {
        "id": "GJoCuwKdQRGc"
      },
      "outputs": [
        {
          "name": "stdout",
          "output_type": "stream",
          "text": [
            "Площадь треугольника: 3.897114317029974\n"
          ]
        }
      ],
      "source": [
        "import math\n",
        "\n",
        "def square_triangle(a, b, c):\n",
        "    p = (a + b + c) / 2\n",
        "    S = math.sqrt(p * (p - a) * (p - b) * (p - c))\n",
        "    return S\n",
        "\n",
        "a = int(input(\"Введите сторону a: \"))\n",
        "b = int(input(\"Введите сторону b: \"))\n",
        "c = int(input(\"Введите сторону c: \"))\n",
        "print(\"Площадь треугольника:\", square_triangle(a, b, c))"
      ]
    },
    {
      "cell_type": "code",
      "execution_count": 80,
      "metadata": {
        "id": "SXkDt0gqQRGd"
      },
      "outputs": [
        {
          "name": "stdout",
          "output_type": "stream",
          "text": [
            "3.897114317029974\n"
          ]
        }
      ],
      "source": [
        "a = int(input())\n",
        "b = int(input())\n",
        "c = int(input())\n",
        "print(square_triangle(a, b, c))"
      ]
    },
    {
      "cell_type": "markdown",
      "metadata": {
        "id": "2hAOq-vpQRGd"
      },
      "source": [
        "## Pandas. Загрузка библиотек\n",
        "\n",
        " -  <a href=\"http://pandas.pydata.org/\">Pandas</a> - библиотека для обработки и анализа данных. Предназначена для данных разной природы - матричных, панельных данных, временных рядов. Претендует на звание самого мощного и гибкого средства для анализа данных с открытым исходным кодом.\n",
        "\n",
        "\n",
        "Чтобы использовать (любую) библиотеку, нужно подгрузить ее в наш рабочий документ. <br>\n",
        "Команда устроена так:\n",
        "\n",
        "\n",
        "**import** название библиотеки\n",
        "\n",
        "\n",
        "Для дальнейшего использования название библиотеки могут сократить, но тогда в загрузке указывают ее псевдоним\n",
        "\n",
        "\n",
        "**import** название библиотеки **as** псевдоним\n"
      ]
    },
    {
      "cell_type": "code",
      "execution_count": 81,
      "metadata": {
        "id": "Y_MHAfUnQRGd"
      },
      "outputs": [],
      "source": [
        "import pandas as pd"
      ]
    },
    {
      "cell_type": "markdown",
      "metadata": {
        "id": "j7gdKr2xQRGd"
      },
      "source": [
        "В pandas есть две структуры данных:\n",
        "- Series: одномерный массив с именованными индексами (чаще всего, данные одного типа)\n",
        "- DataFrame: двухмерный массив, имеет табличную структуру, легко изменяется по размерам, может содержать в себе данные разных типов\n",
        "\n",
        "Оба типа можно создавать вручную с помощью функций из самой библиотеки:\n",
        "- pandas.Series(data=None, index=None, dtype=None)\n",
        "- pandas.DataFrame(data=None, index=None, columns=None, dtype=None)\n",
        "\n",
        "- **data** - данные, которые надо записать в структуру\n",
        "- **index** - индексы строк\n",
        "- **columns** - названия столбцов\n",
        "- **dtype** - тип данных\n",
        "\n",
        "Кроме data, остальные параметры опциональны\n"
      ]
    },
    {
      "cell_type": "markdown",
      "metadata": {
        "id": "aIrwc9BDQRGd"
      },
      "source": [
        "Мы, конечно, можем сами создавать датафреймы!\n",
        "\n",
        "\n",
        "Давайте разберемся, что здесь что и запишем в известную нам конструкцию - списки."
      ]
    },
    {
      "cell_type": "code",
      "execution_count": 82,
      "metadata": {
        "id": "4EzEmMGdQRGd"
      },
      "outputs": [],
      "source": [
        "columns = ['country', 'province', 'region_1', 'region_2']\n",
        "index = [0, 1, 10, 100]\n",
        "data = [['Italy', 'Sicily & Sardinia', 'Etna', 'NaN'],\n",
        "        ['Portugal', 'Douro', 'NaN', 'NaN'],\n",
        "       ['US', 'California', 'Napa Valley', 'Napa'],\n",
        "       ['US', 'New York', 'Finger Lakes', 'Finger Lakes']]"
      ]
    },
    {
      "cell_type": "markdown",
      "metadata": {
        "id": "FM2sfSWyQRGe"
      },
      "source": [
        "А теперь соберем в датафрейм"
      ]
    },
    {
      "cell_type": "code",
      "execution_count": 83,
      "metadata": {
        "id": "QNKf8jblQRGe",
        "scrolled": true
      },
      "outputs": [
        {
          "data": {
            "text/html": [
              "<div>\n",
              "<style scoped>\n",
              "    .dataframe tbody tr th:only-of-type {\n",
              "        vertical-align: middle;\n",
              "    }\n",
              "\n",
              "    .dataframe tbody tr th {\n",
              "        vertical-align: top;\n",
              "    }\n",
              "\n",
              "    .dataframe thead th {\n",
              "        text-align: right;\n",
              "    }\n",
              "</style>\n",
              "<table border=\"1\" class=\"dataframe\">\n",
              "  <thead>\n",
              "    <tr style=\"text-align: right;\">\n",
              "      <th></th>\n",
              "      <th>country</th>\n",
              "      <th>province</th>\n",
              "      <th>region_1</th>\n",
              "      <th>region_2</th>\n",
              "    </tr>\n",
              "  </thead>\n",
              "  <tbody>\n",
              "    <tr>\n",
              "      <th>0</th>\n",
              "      <td>Italy</td>\n",
              "      <td>Sicily &amp; Sardinia</td>\n",
              "      <td>Etna</td>\n",
              "      <td>NaN</td>\n",
              "    </tr>\n",
              "    <tr>\n",
              "      <th>1</th>\n",
              "      <td>Portugal</td>\n",
              "      <td>Douro</td>\n",
              "      <td>NaN</td>\n",
              "      <td>NaN</td>\n",
              "    </tr>\n",
              "    <tr>\n",
              "      <th>10</th>\n",
              "      <td>US</td>\n",
              "      <td>California</td>\n",
              "      <td>Napa Valley</td>\n",
              "      <td>Napa</td>\n",
              "    </tr>\n",
              "    <tr>\n",
              "      <th>100</th>\n",
              "      <td>US</td>\n",
              "      <td>New York</td>\n",
              "      <td>Finger Lakes</td>\n",
              "      <td>Finger Lakes</td>\n",
              "    </tr>\n",
              "  </tbody>\n",
              "</table>\n",
              "</div>"
            ],
            "text/plain": [
              "      country           province      region_1      region_2\n",
              "0       Italy  Sicily & Sardinia          Etna           NaN\n",
              "1    Portugal              Douro           NaN           NaN\n",
              "10         US         California   Napa Valley          Napa\n",
              "100        US           New York  Finger Lakes  Finger Lakes"
            ]
          },
          "execution_count": 83,
          "metadata": {},
          "output_type": "execute_result"
        }
      ],
      "source": [
        "df = pd.DataFrame(data, columns = columns, index = index)\n",
        "df"
      ]
    },
    {
      "cell_type": "markdown",
      "metadata": {
        "id": "2sOT_NjpQRGe"
      },
      "source": [
        "## ⚡**Задача 1**\n",
        "\n",
        "Создайте датафрейм"
      ]
    },
    {
      "cell_type": "markdown",
      "metadata": {
        "id": "Mn6vZJP-QRGe"
      },
      "source": [
        "### Загрузка и запись данных\n",
        "\n",
        "Мы не будем вручную записывать данные, а будем загружать из файла.\n",
        "\n",
        "\n",
        "- Функции типа **pd.read_формат** и **pd.to_формат**\n",
        "считывают и записывают данные соответственно. <br /> Полный список можно найти в документации:\n",
        "http://pandas.pydata.org/pandas-docs/stable/io.html\n",
        "\n",
        "Научимся считывать данные в формате csv (comma separated value) функцией:\n",
        "\n",
        "- <a href=\"http://pandas.pydata.org/pandas-docs/stable/generated/pandas.read_csv.html#pandas.read_csv\"> pd.read_csv()</a>:\n",
        "\n",
        "Аргументов у нее очень много, критически важные:\n",
        " - **filepath_or_buffer** - текстовая строка с названием (адресом) файла\n",
        " - **sep** - разделитель между данными\n",
        " - **header** - номер строки, в которой в файле указаны названия столбцов, None, если нет\n",
        " - **names** - список с названиями колонок\n",
        " - **index_col** - или номер столбца, или список,  или ничего - колонка, из которой надо взять названия строк\n"
      ]
    },
    {
      "cell_type": "markdown",
      "metadata": {
        "id": "VErX5DeLQRGe"
      },
      "source": [
        "Для примера возьмем следующие данные:\n",
        "\n",
        "https://www.kaggle.com/datasets/zynicide/wine-reviews\n",
        "\n",
        "Файл **winemag-data_first150k.csv**:\n",
        "\n",
        "(https://github.com/morisasy/kaggle/blob/master/data/winemag-data_first150k.csv)"
      ]
    },
    {
      "cell_type": "code",
      "execution_count": 84,
      "metadata": {
        "id": "bhrZp3YKQRGe"
      },
      "outputs": [],
      "source": [
        "import pandas as pd\n",
        "data = pd.read_csv('winemag-data_first150k.csv')"
      ]
    },
    {
      "cell_type": "markdown",
      "metadata": {
        "id": "l36zeInWQRGe"
      },
      "source": [
        "\n",
        "### Смотрим, что загрузилось"
      ]
    },
    {
      "cell_type": "code",
      "execution_count": 85,
      "metadata": {
        "id": "UJpVZiJ2QRGe"
      },
      "outputs": [
        {
          "data": {
            "text/html": [
              "<div>\n",
              "<style scoped>\n",
              "    .dataframe tbody tr th:only-of-type {\n",
              "        vertical-align: middle;\n",
              "    }\n",
              "\n",
              "    .dataframe tbody tr th {\n",
              "        vertical-align: top;\n",
              "    }\n",
              "\n",
              "    .dataframe thead th {\n",
              "        text-align: right;\n",
              "    }\n",
              "</style>\n",
              "<table border=\"1\" class=\"dataframe\">\n",
              "  <thead>\n",
              "    <tr style=\"text-align: right;\">\n",
              "      <th></th>\n",
              "      <th>Unnamed: 0</th>\n",
              "      <th>country</th>\n",
              "      <th>description</th>\n",
              "      <th>designation</th>\n",
              "      <th>points</th>\n",
              "      <th>price</th>\n",
              "      <th>province</th>\n",
              "      <th>region_1</th>\n",
              "      <th>region_2</th>\n",
              "      <th>variety</th>\n",
              "      <th>winery</th>\n",
              "    </tr>\n",
              "  </thead>\n",
              "  <tbody>\n",
              "    <tr>\n",
              "      <th>0</th>\n",
              "      <td>0</td>\n",
              "      <td>US</td>\n",
              "      <td>This tremendous 100% varietal wine hails from ...</td>\n",
              "      <td>Martha's Vineyard</td>\n",
              "      <td>96</td>\n",
              "      <td>235.0</td>\n",
              "      <td>California</td>\n",
              "      <td>Napa Valley</td>\n",
              "      <td>Napa</td>\n",
              "      <td>Cabernet Sauvignon</td>\n",
              "      <td>Heitz</td>\n",
              "    </tr>\n",
              "    <tr>\n",
              "      <th>1</th>\n",
              "      <td>1</td>\n",
              "      <td>Spain</td>\n",
              "      <td>Ripe aromas of fig, blackberry and cassis are ...</td>\n",
              "      <td>Carodorum Selección Especial Reserva</td>\n",
              "      <td>96</td>\n",
              "      <td>110.0</td>\n",
              "      <td>Northern Spain</td>\n",
              "      <td>Toro</td>\n",
              "      <td>NaN</td>\n",
              "      <td>Tinta de Toro</td>\n",
              "      <td>Bodega Carmen Rodríguez</td>\n",
              "    </tr>\n",
              "    <tr>\n",
              "      <th>2</th>\n",
              "      <td>2</td>\n",
              "      <td>US</td>\n",
              "      <td>Mac Watson honors the memory of a wine once ma...</td>\n",
              "      <td>Special Selected Late Harvest</td>\n",
              "      <td>96</td>\n",
              "      <td>90.0</td>\n",
              "      <td>California</td>\n",
              "      <td>Knights Valley</td>\n",
              "      <td>Sonoma</td>\n",
              "      <td>Sauvignon Blanc</td>\n",
              "      <td>Macauley</td>\n",
              "    </tr>\n",
              "    <tr>\n",
              "      <th>3</th>\n",
              "      <td>3</td>\n",
              "      <td>US</td>\n",
              "      <td>This spent 20 months in 30% new French oak, an...</td>\n",
              "      <td>Reserve</td>\n",
              "      <td>96</td>\n",
              "      <td>65.0</td>\n",
              "      <td>Oregon</td>\n",
              "      <td>Willamette Valley</td>\n",
              "      <td>Willamette Valley</td>\n",
              "      <td>Pinot Noir</td>\n",
              "      <td>Ponzi</td>\n",
              "    </tr>\n",
              "    <tr>\n",
              "      <th>4</th>\n",
              "      <td>4</td>\n",
              "      <td>France</td>\n",
              "      <td>This is the top wine from La Bégude, named aft...</td>\n",
              "      <td>La Brûlade</td>\n",
              "      <td>95</td>\n",
              "      <td>66.0</td>\n",
              "      <td>Provence</td>\n",
              "      <td>Bandol</td>\n",
              "      <td>NaN</td>\n",
              "      <td>Provence red blend</td>\n",
              "      <td>Domaine de la Bégude</td>\n",
              "    </tr>\n",
              "  </tbody>\n",
              "</table>\n",
              "</div>"
            ],
            "text/plain": [
              "   Unnamed: 0 country                                        description  \\\n",
              "0           0      US  This tremendous 100% varietal wine hails from ...   \n",
              "1           1   Spain  Ripe aromas of fig, blackberry and cassis are ...   \n",
              "2           2      US  Mac Watson honors the memory of a wine once ma...   \n",
              "3           3      US  This spent 20 months in 30% new French oak, an...   \n",
              "4           4  France  This is the top wine from La Bégude, named aft...   \n",
              "\n",
              "                            designation  points  price        province  \\\n",
              "0                     Martha's Vineyard      96  235.0      California   \n",
              "1  Carodorum Selección Especial Reserva      96  110.0  Northern Spain   \n",
              "2         Special Selected Late Harvest      96   90.0      California   \n",
              "3                               Reserve      96   65.0          Oregon   \n",
              "4                            La Brûlade      95   66.0        Provence   \n",
              "\n",
              "            region_1           region_2             variety  \\\n",
              "0        Napa Valley               Napa  Cabernet Sauvignon   \n",
              "1               Toro                NaN       Tinta de Toro   \n",
              "2     Knights Valley             Sonoma     Sauvignon Blanc   \n",
              "3  Willamette Valley  Willamette Valley          Pinot Noir   \n",
              "4             Bandol                NaN  Provence red blend   \n",
              "\n",
              "                    winery  \n",
              "0                    Heitz  \n",
              "1  Bodega Carmen Rodríguez  \n",
              "2                 Macauley  \n",
              "3                    Ponzi  \n",
              "4     Domaine de la Bégude  "
            ]
          },
          "execution_count": 85,
          "metadata": {},
          "output_type": "execute_result"
        }
      ],
      "source": [
        "data.head(5)"
      ]
    },
    {
      "cell_type": "markdown",
      "metadata": {
        "id": "jPyCCr2GQRGe"
      },
      "source": [
        "Что-то не то с первым столбцом, немного поправим"
      ]
    },
    {
      "cell_type": "code",
      "execution_count": 86,
      "metadata": {
        "id": "0fAH2be1QRGe"
      },
      "outputs": [],
      "source": [
        "data = pd.read_csv('winemag-data_first150k.csv', index_col = 0)"
      ]
    },
    {
      "cell_type": "code",
      "execution_count": 87,
      "metadata": {
        "id": "svPtO1N6QRGf",
        "scrolled": true
      },
      "outputs": [
        {
          "data": {
            "text/html": [
              "<div>\n",
              "<style scoped>\n",
              "    .dataframe tbody tr th:only-of-type {\n",
              "        vertical-align: middle;\n",
              "    }\n",
              "\n",
              "    .dataframe tbody tr th {\n",
              "        vertical-align: top;\n",
              "    }\n",
              "\n",
              "    .dataframe thead th {\n",
              "        text-align: right;\n",
              "    }\n",
              "</style>\n",
              "<table border=\"1\" class=\"dataframe\">\n",
              "  <thead>\n",
              "    <tr style=\"text-align: right;\">\n",
              "      <th></th>\n",
              "      <th>country</th>\n",
              "      <th>description</th>\n",
              "      <th>designation</th>\n",
              "      <th>points</th>\n",
              "      <th>price</th>\n",
              "      <th>province</th>\n",
              "      <th>region_1</th>\n",
              "      <th>region_2</th>\n",
              "      <th>variety</th>\n",
              "      <th>winery</th>\n",
              "    </tr>\n",
              "  </thead>\n",
              "  <tbody>\n",
              "    <tr>\n",
              "      <th>0</th>\n",
              "      <td>US</td>\n",
              "      <td>This tremendous 100% varietal wine hails from ...</td>\n",
              "      <td>Martha's Vineyard</td>\n",
              "      <td>96</td>\n",
              "      <td>235.0</td>\n",
              "      <td>California</td>\n",
              "      <td>Napa Valley</td>\n",
              "      <td>Napa</td>\n",
              "      <td>Cabernet Sauvignon</td>\n",
              "      <td>Heitz</td>\n",
              "    </tr>\n",
              "    <tr>\n",
              "      <th>1</th>\n",
              "      <td>Spain</td>\n",
              "      <td>Ripe aromas of fig, blackberry and cassis are ...</td>\n",
              "      <td>Carodorum Selección Especial Reserva</td>\n",
              "      <td>96</td>\n",
              "      <td>110.0</td>\n",
              "      <td>Northern Spain</td>\n",
              "      <td>Toro</td>\n",
              "      <td>NaN</td>\n",
              "      <td>Tinta de Toro</td>\n",
              "      <td>Bodega Carmen Rodríguez</td>\n",
              "    </tr>\n",
              "    <tr>\n",
              "      <th>2</th>\n",
              "      <td>US</td>\n",
              "      <td>Mac Watson honors the memory of a wine once ma...</td>\n",
              "      <td>Special Selected Late Harvest</td>\n",
              "      <td>96</td>\n",
              "      <td>90.0</td>\n",
              "      <td>California</td>\n",
              "      <td>Knights Valley</td>\n",
              "      <td>Sonoma</td>\n",
              "      <td>Sauvignon Blanc</td>\n",
              "      <td>Macauley</td>\n",
              "    </tr>\n",
              "  </tbody>\n",
              "</table>\n",
              "</div>"
            ],
            "text/plain": [
              "  country                                        description  \\\n",
              "0      US  This tremendous 100% varietal wine hails from ...   \n",
              "1   Spain  Ripe aromas of fig, blackberry and cassis are ...   \n",
              "2      US  Mac Watson honors the memory of a wine once ma...   \n",
              "\n",
              "                            designation  points  price        province  \\\n",
              "0                     Martha's Vineyard      96  235.0      California   \n",
              "1  Carodorum Selección Especial Reserva      96  110.0  Northern Spain   \n",
              "2         Special Selected Late Harvest      96   90.0      California   \n",
              "\n",
              "         region_1 region_2             variety                   winery  \n",
              "0     Napa Valley     Napa  Cabernet Sauvignon                    Heitz  \n",
              "1            Toro      NaN       Tinta de Toro  Bodega Carmen Rodríguez  \n",
              "2  Knights Valley   Sonoma     Sauvignon Blanc                 Macauley  "
            ]
          },
          "execution_count": 87,
          "metadata": {},
          "output_type": "execute_result"
        }
      ],
      "source": [
        "data.head(3)"
      ]
    },
    {
      "cell_type": "markdown",
      "metadata": {
        "id": "oYLI902QQRGf"
      },
      "source": [
        "### Смотрим, что загрузилось:\n",
        "\n",
        "- Посчитаем, сколько записей\n",
        "- Посмотрим, какого типа данные\n",
        "- Проверим, есть ли пропуски"
      ]
    },
    {
      "cell_type": "markdown",
      "metadata": {
        "id": "8DdRMBKYQRGf"
      },
      "source": [
        "Посчитаем, сколько записей в данных.\n",
        "\n",
        "- В этом помогает метод **count()**."
      ]
    },
    {
      "cell_type": "code",
      "execution_count": 88,
      "metadata": {
        "id": "SaLDXmvZQRGf",
        "scrolled": true
      },
      "outputs": [
        {
          "data": {
            "text/plain": [
              "country        150925\n",
              "description    150930\n",
              "designation    105195\n",
              "points         150930\n",
              "price          137235\n",
              "province       150925\n",
              "region_1       125870\n",
              "region_2        60953\n",
              "variety        150930\n",
              "winery         150930\n",
              "dtype: int64"
            ]
          },
          "execution_count": 88,
          "metadata": {},
          "output_type": "execute_result"
        }
      ],
      "source": [
        "data.count()"
      ]
    },
    {
      "cell_type": "markdown",
      "metadata": {
        "id": "bs0vOaCQQRGf"
      },
      "source": [
        "- Метод info() заодно показывает, какого типа данные в столбцах"
      ]
    },
    {
      "cell_type": "code",
      "execution_count": 89,
      "metadata": {
        "id": "KZriJ9XGQRGf"
      },
      "outputs": [
        {
          "name": "stdout",
          "output_type": "stream",
          "text": [
            "<class 'pandas.core.frame.DataFrame'>\n",
            "Index: 150930 entries, 0 to 150929\n",
            "Data columns (total 10 columns):\n",
            " #   Column       Non-Null Count   Dtype  \n",
            "---  ------       --------------   -----  \n",
            " 0   country      150925 non-null  object \n",
            " 1   description  150930 non-null  object \n",
            " 2   designation  105195 non-null  object \n",
            " 3   points       150930 non-null  int64  \n",
            " 4   price        137235 non-null  float64\n",
            " 5   province     150925 non-null  object \n",
            " 6   region_1     125870 non-null  object \n",
            " 7   region_2     60953 non-null   object \n",
            " 8   variety      150930 non-null  object \n",
            " 9   winery       150930 non-null  object \n",
            "dtypes: float64(1), int64(1), object(8)\n",
            "memory usage: 12.7+ MB\n"
          ]
        }
      ],
      "source": [
        "data.info()"
      ]
    },
    {
      "cell_type": "code",
      "execution_count": 90,
      "metadata": {
        "id": "ox4-BCm0QRGf"
      },
      "outputs": [
        {
          "data": {
            "text/plain": [
              "country         object\n",
              "description     object\n",
              "designation     object\n",
              "points           int64\n",
              "price          float64\n",
              "province        object\n",
              "region_1        object\n",
              "region_2        object\n",
              "variety         object\n",
              "winery          object\n",
              "dtype: object"
            ]
          },
          "execution_count": 90,
          "metadata": {},
          "output_type": "execute_result"
        }
      ],
      "source": [
        "data.dtypes"
      ]
    },
    {
      "cell_type": "markdown",
      "metadata": {
        "id": "V3zpbSBOQRGf"
      },
      "source": [
        "Начнем проверять на пропуски!\n",
        "\n",
        "- .isnull() - выдает табличку, где False - ячейка заполнена, True - ячейка пуста"
      ]
    },
    {
      "cell_type": "code",
      "execution_count": 91,
      "metadata": {
        "id": "Zrqqm-w4QRGf"
      },
      "outputs": [
        {
          "data": {
            "text/html": [
              "<div>\n",
              "<style scoped>\n",
              "    .dataframe tbody tr th:only-of-type {\n",
              "        vertical-align: middle;\n",
              "    }\n",
              "\n",
              "    .dataframe tbody tr th {\n",
              "        vertical-align: top;\n",
              "    }\n",
              "\n",
              "    .dataframe thead th {\n",
              "        text-align: right;\n",
              "    }\n",
              "</style>\n",
              "<table border=\"1\" class=\"dataframe\">\n",
              "  <thead>\n",
              "    <tr style=\"text-align: right;\">\n",
              "      <th></th>\n",
              "      <th>country</th>\n",
              "      <th>description</th>\n",
              "      <th>designation</th>\n",
              "      <th>points</th>\n",
              "      <th>price</th>\n",
              "      <th>province</th>\n",
              "      <th>region_1</th>\n",
              "      <th>region_2</th>\n",
              "      <th>variety</th>\n",
              "      <th>winery</th>\n",
              "    </tr>\n",
              "  </thead>\n",
              "  <tbody>\n",
              "    <tr>\n",
              "      <th>0</th>\n",
              "      <td>False</td>\n",
              "      <td>False</td>\n",
              "      <td>False</td>\n",
              "      <td>False</td>\n",
              "      <td>False</td>\n",
              "      <td>False</td>\n",
              "      <td>False</td>\n",
              "      <td>False</td>\n",
              "      <td>False</td>\n",
              "      <td>False</td>\n",
              "    </tr>\n",
              "    <tr>\n",
              "      <th>1</th>\n",
              "      <td>False</td>\n",
              "      <td>False</td>\n",
              "      <td>False</td>\n",
              "      <td>False</td>\n",
              "      <td>False</td>\n",
              "      <td>False</td>\n",
              "      <td>False</td>\n",
              "      <td>True</td>\n",
              "      <td>False</td>\n",
              "      <td>False</td>\n",
              "    </tr>\n",
              "    <tr>\n",
              "      <th>2</th>\n",
              "      <td>False</td>\n",
              "      <td>False</td>\n",
              "      <td>False</td>\n",
              "      <td>False</td>\n",
              "      <td>False</td>\n",
              "      <td>False</td>\n",
              "      <td>False</td>\n",
              "      <td>False</td>\n",
              "      <td>False</td>\n",
              "      <td>False</td>\n",
              "    </tr>\n",
              "    <tr>\n",
              "      <th>3</th>\n",
              "      <td>False</td>\n",
              "      <td>False</td>\n",
              "      <td>False</td>\n",
              "      <td>False</td>\n",
              "      <td>False</td>\n",
              "      <td>False</td>\n",
              "      <td>False</td>\n",
              "      <td>False</td>\n",
              "      <td>False</td>\n",
              "      <td>False</td>\n",
              "    </tr>\n",
              "    <tr>\n",
              "      <th>4</th>\n",
              "      <td>False</td>\n",
              "      <td>False</td>\n",
              "      <td>False</td>\n",
              "      <td>False</td>\n",
              "      <td>False</td>\n",
              "      <td>False</td>\n",
              "      <td>False</td>\n",
              "      <td>True</td>\n",
              "      <td>False</td>\n",
              "      <td>False</td>\n",
              "    </tr>\n",
              "    <tr>\n",
              "      <th>...</th>\n",
              "      <td>...</td>\n",
              "      <td>...</td>\n",
              "      <td>...</td>\n",
              "      <td>...</td>\n",
              "      <td>...</td>\n",
              "      <td>...</td>\n",
              "      <td>...</td>\n",
              "      <td>...</td>\n",
              "      <td>...</td>\n",
              "      <td>...</td>\n",
              "    </tr>\n",
              "    <tr>\n",
              "      <th>150925</th>\n",
              "      <td>False</td>\n",
              "      <td>False</td>\n",
              "      <td>True</td>\n",
              "      <td>False</td>\n",
              "      <td>False</td>\n",
              "      <td>False</td>\n",
              "      <td>False</td>\n",
              "      <td>True</td>\n",
              "      <td>False</td>\n",
              "      <td>False</td>\n",
              "    </tr>\n",
              "    <tr>\n",
              "      <th>150926</th>\n",
              "      <td>False</td>\n",
              "      <td>False</td>\n",
              "      <td>False</td>\n",
              "      <td>False</td>\n",
              "      <td>False</td>\n",
              "      <td>False</td>\n",
              "      <td>False</td>\n",
              "      <td>True</td>\n",
              "      <td>False</td>\n",
              "      <td>False</td>\n",
              "    </tr>\n",
              "    <tr>\n",
              "      <th>150927</th>\n",
              "      <td>False</td>\n",
              "      <td>False</td>\n",
              "      <td>False</td>\n",
              "      <td>False</td>\n",
              "      <td>False</td>\n",
              "      <td>False</td>\n",
              "      <td>False</td>\n",
              "      <td>True</td>\n",
              "      <td>False</td>\n",
              "      <td>False</td>\n",
              "    </tr>\n",
              "    <tr>\n",
              "      <th>150928</th>\n",
              "      <td>False</td>\n",
              "      <td>False</td>\n",
              "      <td>False</td>\n",
              "      <td>False</td>\n",
              "      <td>False</td>\n",
              "      <td>False</td>\n",
              "      <td>False</td>\n",
              "      <td>True</td>\n",
              "      <td>False</td>\n",
              "      <td>False</td>\n",
              "    </tr>\n",
              "    <tr>\n",
              "      <th>150929</th>\n",
              "      <td>False</td>\n",
              "      <td>False</td>\n",
              "      <td>True</td>\n",
              "      <td>False</td>\n",
              "      <td>False</td>\n",
              "      <td>False</td>\n",
              "      <td>False</td>\n",
              "      <td>True</td>\n",
              "      <td>False</td>\n",
              "      <td>False</td>\n",
              "    </tr>\n",
              "  </tbody>\n",
              "</table>\n",
              "<p>150930 rows × 10 columns</p>\n",
              "</div>"
            ],
            "text/plain": [
              "        country  description  designation  points  price  province  region_1  \\\n",
              "0         False        False        False   False  False     False     False   \n",
              "1         False        False        False   False  False     False     False   \n",
              "2         False        False        False   False  False     False     False   \n",
              "3         False        False        False   False  False     False     False   \n",
              "4         False        False        False   False  False     False     False   \n",
              "...         ...          ...          ...     ...    ...       ...       ...   \n",
              "150925    False        False         True   False  False     False     False   \n",
              "150926    False        False        False   False  False     False     False   \n",
              "150927    False        False        False   False  False     False     False   \n",
              "150928    False        False        False   False  False     False     False   \n",
              "150929    False        False         True   False  False     False     False   \n",
              "\n",
              "        region_2  variety  winery  \n",
              "0          False    False   False  \n",
              "1           True    False   False  \n",
              "2          False    False   False  \n",
              "3          False    False   False  \n",
              "4           True    False   False  \n",
              "...          ...      ...     ...  \n",
              "150925      True    False   False  \n",
              "150926      True    False   False  \n",
              "150927      True    False   False  \n",
              "150928      True    False   False  \n",
              "150929      True    False   False  \n",
              "\n",
              "[150930 rows x 10 columns]"
            ]
          },
          "execution_count": 91,
          "metadata": {},
          "output_type": "execute_result"
        }
      ],
      "source": [
        "data.isnull()"
      ]
    },
    {
      "cell_type": "code",
      "execution_count": 92,
      "metadata": {
        "id": "nyXmM9z7QRGf"
      },
      "outputs": [
        {
          "data": {
            "image/png": "[encoded data removed]",
            "text/plain": [
              "<Figure size 2000x1200 with 1 Axes>"
            ]
          },
          "metadata": {},
          "output_type": "display_data"
        }
      ],
      "source": [
        "import matplotlib.pyplot as plt\n",
        "import seaborn as sns\n",
        "\n",
        "fig, ax = plt.subplots(figsize=(20,12))\n",
        "sns_heatmap = sns.heatmap(data.isnull(), yticklabels=False, cbar=False, cmap='viridis')\n",
        "plt.show()"
      ]
    },
    {
      "cell_type": "markdown",
      "metadata": {
        "id": "fIti2rsdQRGg"
      },
      "source": [
        "Что с этим делать?\n",
        "\n",
        "Выбора не очень много: <br>\n",
        "\n",
        "1) Удалять:\n",
        "- dropna(axis=0, how='any'): axis = 0 - удаляем построчно, axis = 1 выкидываем столбец; how ='any' - выкидываем, если есть хотя бы одна ячейка пустая. how = 'all' - выкидываем, если есть полностью пустая строка или столбец\n",
        "\n",
        "2) Вставлять информацию самим:\n",
        "- fillna().\n",
        "\n",
        "\n",
        "Пока не будем трогать данные."
      ]
    },
    {
      "cell_type": "markdown",
      "metadata": {
        "id": "0PPP4D_eQRGg"
      },
      "source": [
        "### Описательные статистики\n",
        "\n",
        "Теперь посмотрим, а что содержательно у нас есть на руках.\n",
        "\n",
        "Глазами просматривать не будем, а попросим посчитать основные описательные статистики. Причем сразу все.\n",
        "\n",
        "- describe() - метод, который возвращает табличку с описательными статистиками. В таком виде считает все для числовых столбцов"
      ]
    },
    {
      "cell_type": "code",
      "execution_count": 93,
      "metadata": {
        "id": "1TDgwXqUQRGg",
        "scrolled": true
      },
      "outputs": [
        {
          "data": {
            "text/html": [
              "<div>\n",
              "<style scoped>\n",
              "    .dataframe tbody tr th:only-of-type {\n",
              "        vertical-align: middle;\n",
              "    }\n",
              "\n",
              "    .dataframe tbody tr th {\n",
              "        vertical-align: top;\n",
              "    }\n",
              "\n",
              "    .dataframe thead th {\n",
              "        text-align: right;\n",
              "    }\n",
              "</style>\n",
              "<table border=\"1\" class=\"dataframe\">\n",
              "  <thead>\n",
              "    <tr style=\"text-align: right;\">\n",
              "      <th></th>\n",
              "      <th>points</th>\n",
              "      <th>price</th>\n",
              "    </tr>\n",
              "  </thead>\n",
              "  <tbody>\n",
              "    <tr>\n",
              "      <th>count</th>\n",
              "      <td>150930.000000</td>\n",
              "      <td>137235.000000</td>\n",
              "    </tr>\n",
              "    <tr>\n",
              "      <th>mean</th>\n",
              "      <td>87.888418</td>\n",
              "      <td>33.131482</td>\n",
              "    </tr>\n",
              "    <tr>\n",
              "      <th>std</th>\n",
              "      <td>3.222392</td>\n",
              "      <td>36.322536</td>\n",
              "    </tr>\n",
              "    <tr>\n",
              "      <th>min</th>\n",
              "      <td>80.000000</td>\n",
              "      <td>4.000000</td>\n",
              "    </tr>\n",
              "    <tr>\n",
              "      <th>25%</th>\n",
              "      <td>86.000000</td>\n",
              "      <td>16.000000</td>\n",
              "    </tr>\n",
              "    <tr>\n",
              "      <th>50%</th>\n",
              "      <td>88.000000</td>\n",
              "      <td>24.000000</td>\n",
              "    </tr>\n",
              "    <tr>\n",
              "      <th>75%</th>\n",
              "      <td>90.000000</td>\n",
              "      <td>40.000000</td>\n",
              "    </tr>\n",
              "    <tr>\n",
              "      <th>max</th>\n",
              "      <td>100.000000</td>\n",
              "      <td>2300.000000</td>\n",
              "    </tr>\n",
              "  </tbody>\n",
              "</table>\n",
              "</div>"
            ],
            "text/plain": [
              "              points          price\n",
              "count  150930.000000  137235.000000\n",
              "mean       87.888418      33.131482\n",
              "std         3.222392      36.322536\n",
              "min        80.000000       4.000000\n",
              "25%        86.000000      16.000000\n",
              "50%        88.000000      24.000000\n",
              "75%        90.000000      40.000000\n",
              "max       100.000000    2300.000000"
            ]
          },
          "execution_count": 93,
          "metadata": {},
          "output_type": "execute_result"
        }
      ],
      "source": [
        "data.describe()"
      ]
    },
    {
      "cell_type": "markdown",
      "metadata": {
        "id": "3yjU4wmEQRGg"
      },
      "source": [
        "Следующий способ помогает для нечисловых данные получить описательные статистики."
      ]
    },
    {
      "cell_type": "code",
      "execution_count": 94,
      "metadata": {
        "id": "o5qlNsDyQRGg",
        "scrolled": false
      },
      "outputs": [
        {
          "data": {
            "text/html": [
              "<div>\n",
              "<style scoped>\n",
              "    .dataframe tbody tr th:only-of-type {\n",
              "        vertical-align: middle;\n",
              "    }\n",
              "\n",
              "    .dataframe tbody tr th {\n",
              "        vertical-align: top;\n",
              "    }\n",
              "\n",
              "    .dataframe thead th {\n",
              "        text-align: right;\n",
              "    }\n",
              "</style>\n",
              "<table border=\"1\" class=\"dataframe\">\n",
              "  <thead>\n",
              "    <tr style=\"text-align: right;\">\n",
              "      <th></th>\n",
              "      <th>country</th>\n",
              "      <th>description</th>\n",
              "      <th>designation</th>\n",
              "      <th>province</th>\n",
              "      <th>region_1</th>\n",
              "      <th>region_2</th>\n",
              "      <th>variety</th>\n",
              "      <th>winery</th>\n",
              "    </tr>\n",
              "  </thead>\n",
              "  <tbody>\n",
              "    <tr>\n",
              "      <th>count</th>\n",
              "      <td>150925</td>\n",
              "      <td>150930</td>\n",
              "      <td>105195</td>\n",
              "      <td>150925</td>\n",
              "      <td>125870</td>\n",
              "      <td>60953</td>\n",
              "      <td>150930</td>\n",
              "      <td>150930</td>\n",
              "    </tr>\n",
              "    <tr>\n",
              "      <th>unique</th>\n",
              "      <td>48</td>\n",
              "      <td>97821</td>\n",
              "      <td>30621</td>\n",
              "      <td>455</td>\n",
              "      <td>1236</td>\n",
              "      <td>18</td>\n",
              "      <td>632</td>\n",
              "      <td>14810</td>\n",
              "    </tr>\n",
              "    <tr>\n",
              "      <th>top</th>\n",
              "      <td>US</td>\n",
              "      <td>Powerful in Zinny character, this blend of Dry...</td>\n",
              "      <td>Reserve</td>\n",
              "      <td>California</td>\n",
              "      <td>Napa Valley</td>\n",
              "      <td>Central Coast</td>\n",
              "      <td>Chardonnay</td>\n",
              "      <td>Williams Selyem</td>\n",
              "    </tr>\n",
              "    <tr>\n",
              "      <th>freq</th>\n",
              "      <td>62397</td>\n",
              "      <td>6</td>\n",
              "      <td>2752</td>\n",
              "      <td>44508</td>\n",
              "      <td>6209</td>\n",
              "      <td>13057</td>\n",
              "      <td>14482</td>\n",
              "      <td>374</td>\n",
              "    </tr>\n",
              "  </tbody>\n",
              "</table>\n",
              "</div>"
            ],
            "text/plain": [
              "       country                                        description designation  \\\n",
              "count   150925                                             150930      105195   \n",
              "unique      48                                              97821       30621   \n",
              "top         US  Powerful in Zinny character, this blend of Dry...     Reserve   \n",
              "freq     62397                                                  6        2752   \n",
              "\n",
              "          province     region_1       region_2     variety           winery  \n",
              "count       150925       125870          60953      150930           150930  \n",
              "unique         455         1236             18         632            14810  \n",
              "top     California  Napa Valley  Central Coast  Chardonnay  Williams Selyem  \n",
              "freq         44508         6209          13057       14482              374  "
            ]
          },
          "execution_count": 94,
          "metadata": {},
          "output_type": "execute_result"
        }
      ],
      "source": [
        "data.describe(include=['O'])"
      ]
    },
    {
      "cell_type": "markdown",
      "metadata": {
        "id": "bxaFQXL-QRGg"
      },
      "source": [
        "Вообще, все можно считать для отдельных колонок.\n",
        "\n",
        "Но мы с вами не изучили, как отбирать колонки. Что ж, время действовать."
      ]
    },
    {
      "cell_type": "markdown",
      "metadata": {
        "id": "twutDo5TQRGg"
      },
      "source": [
        "### Срезы данных\n",
        "\n",
        "Допустим, нам не нужен датасет, а только определенные столбцы или строки или столбцы и строки.\n",
        "\n",
        "\n",
        "Как делать?\n",
        "Помним, что:\n",
        "- у столбцов есть названия\n",
        "- у строк есть названия\n",
        "- если нет названий, то они пронумерованы с нуля\n",
        "\n",
        "Основываясь на этой идее, мы начнем отбирать данные."
      ]
    },
    {
      "cell_type": "code",
      "execution_count": 95,
      "metadata": {
        "id": "Jw-GhkxvQRGg"
      },
      "outputs": [
        {
          "data": {
            "text/html": [
              "<div>\n",
              "<style scoped>\n",
              "    .dataframe tbody tr th:only-of-type {\n",
              "        vertical-align: middle;\n",
              "    }\n",
              "\n",
              "    .dataframe tbody tr th {\n",
              "        vertical-align: top;\n",
              "    }\n",
              "\n",
              "    .dataframe thead th {\n",
              "        text-align: right;\n",
              "    }\n",
              "</style>\n",
              "<table border=\"1\" class=\"dataframe\">\n",
              "  <thead>\n",
              "    <tr style=\"text-align: right;\">\n",
              "      <th></th>\n",
              "      <th>country</th>\n",
              "      <th>description</th>\n",
              "      <th>designation</th>\n",
              "      <th>points</th>\n",
              "      <th>price</th>\n",
              "      <th>province</th>\n",
              "      <th>region_1</th>\n",
              "      <th>region_2</th>\n",
              "      <th>variety</th>\n",
              "      <th>winery</th>\n",
              "    </tr>\n",
              "  </thead>\n",
              "  <tbody>\n",
              "    <tr>\n",
              "      <th>0</th>\n",
              "      <td>US</td>\n",
              "      <td>This tremendous 100% varietal wine hails from ...</td>\n",
              "      <td>Martha's Vineyard</td>\n",
              "      <td>96</td>\n",
              "      <td>235.0</td>\n",
              "      <td>California</td>\n",
              "      <td>Napa Valley</td>\n",
              "      <td>Napa</td>\n",
              "      <td>Cabernet Sauvignon</td>\n",
              "      <td>Heitz</td>\n",
              "    </tr>\n",
              "  </tbody>\n",
              "</table>\n",
              "</div>"
            ],
            "text/plain": [
              "  country                                        description  \\\n",
              "0      US  This tremendous 100% varietal wine hails from ...   \n",
              "\n",
              "         designation  points  price    province     region_1 region_2  \\\n",
              "0  Martha's Vineyard      96  235.0  California  Napa Valley     Napa   \n",
              "\n",
              "              variety winery  \n",
              "0  Cabernet Sauvignon  Heitz  "
            ]
          },
          "execution_count": 95,
          "metadata": {},
          "output_type": "execute_result"
        }
      ],
      "source": [
        "data.head(1)"
      ]
    },
    {
      "cell_type": "markdown",
      "metadata": {
        "id": "aJBGKdrVQRGg"
      },
      "source": [
        "#### Отбираем по столбцам. Версия 1."
      ]
    },
    {
      "cell_type": "code",
      "execution_count": 96,
      "metadata": {
        "id": "8UJm9AABQRGg"
      },
      "outputs": [
        {
          "data": {
            "text/plain": [
              "0         235.0\n",
              "1         110.0\n",
              "2          90.0\n",
              "3          65.0\n",
              "4          66.0\n",
              "          ...  \n",
              "150925     20.0\n",
              "150926     27.0\n",
              "150927     20.0\n",
              "150928     52.0\n",
              "150929     15.0\n",
              "Name: price, Length: 150930, dtype: float64"
            ]
          },
          "execution_count": 96,
          "metadata": {},
          "output_type": "execute_result"
        }
      ],
      "source": [
        "data['price']"
      ]
    },
    {
      "cell_type": "code",
      "execution_count": 97,
      "metadata": {
        "id": "ate7BeUWQRGh"
      },
      "outputs": [
        {
          "data": {
            "text/html": [
              "<div>\n",
              "<style scoped>\n",
              "    .dataframe tbody tr th:only-of-type {\n",
              "        vertical-align: middle;\n",
              "    }\n",
              "\n",
              "    .dataframe tbody tr th {\n",
              "        vertical-align: top;\n",
              "    }\n",
              "\n",
              "    .dataframe thead th {\n",
              "        text-align: right;\n",
              "    }\n",
              "</style>\n",
              "<table border=\"1\" class=\"dataframe\">\n",
              "  <thead>\n",
              "    <tr style=\"text-align: right;\">\n",
              "      <th></th>\n",
              "      <th>price</th>\n",
              "      <th>country</th>\n",
              "    </tr>\n",
              "  </thead>\n",
              "  <tbody>\n",
              "    <tr>\n",
              "      <th>0</th>\n",
              "      <td>235.0</td>\n",
              "      <td>US</td>\n",
              "    </tr>\n",
              "    <tr>\n",
              "      <th>1</th>\n",
              "      <td>110.0</td>\n",
              "      <td>Spain</td>\n",
              "    </tr>\n",
              "    <tr>\n",
              "      <th>2</th>\n",
              "      <td>90.0</td>\n",
              "      <td>US</td>\n",
              "    </tr>\n",
              "    <tr>\n",
              "      <th>3</th>\n",
              "      <td>65.0</td>\n",
              "      <td>US</td>\n",
              "    </tr>\n",
              "    <tr>\n",
              "      <th>4</th>\n",
              "      <td>66.0</td>\n",
              "      <td>France</td>\n",
              "    </tr>\n",
              "    <tr>\n",
              "      <th>...</th>\n",
              "      <td>...</td>\n",
              "      <td>...</td>\n",
              "    </tr>\n",
              "    <tr>\n",
              "      <th>150925</th>\n",
              "      <td>20.0</td>\n",
              "      <td>Italy</td>\n",
              "    </tr>\n",
              "    <tr>\n",
              "      <th>150926</th>\n",
              "      <td>27.0</td>\n",
              "      <td>France</td>\n",
              "    </tr>\n",
              "    <tr>\n",
              "      <th>150927</th>\n",
              "      <td>20.0</td>\n",
              "      <td>Italy</td>\n",
              "    </tr>\n",
              "    <tr>\n",
              "      <th>150928</th>\n",
              "      <td>52.0</td>\n",
              "      <td>France</td>\n",
              "    </tr>\n",
              "    <tr>\n",
              "      <th>150929</th>\n",
              "      <td>15.0</td>\n",
              "      <td>Italy</td>\n",
              "    </tr>\n",
              "  </tbody>\n",
              "</table>\n",
              "<p>150930 rows × 2 columns</p>\n",
              "</div>"
            ],
            "text/plain": [
              "        price country\n",
              "0       235.0      US\n",
              "1       110.0   Spain\n",
              "2        90.0      US\n",
              "3        65.0      US\n",
              "4        66.0  France\n",
              "...       ...     ...\n",
              "150925   20.0   Italy\n",
              "150926   27.0  France\n",
              "150927   20.0   Italy\n",
              "150928   52.0  France\n",
              "150929   15.0   Italy\n",
              "\n",
              "[150930 rows x 2 columns]"
            ]
          },
          "execution_count": 97,
          "metadata": {},
          "output_type": "execute_result"
        }
      ],
      "source": [
        "data[['price','country']]"
      ]
    },
    {
      "cell_type": "markdown",
      "metadata": {
        "id": "ght7e7jiQRGh"
      },
      "source": [
        "#### Отбираем по  строкам. Версия 1.\n",
        "\n",
        "Были бы названия - вместо цифр подставили бы названия и все вышло бы также"
      ]
    },
    {
      "cell_type": "code",
      "execution_count": 98,
      "metadata": {
        "id": "yORSyzTfQRGh"
      },
      "outputs": [
        {
          "data": {
            "text/html": [
              "<div>\n",
              "<style scoped>\n",
              "    .dataframe tbody tr th:only-of-type {\n",
              "        vertical-align: middle;\n",
              "    }\n",
              "\n",
              "    .dataframe tbody tr th {\n",
              "        vertical-align: top;\n",
              "    }\n",
              "\n",
              "    .dataframe thead th {\n",
              "        text-align: right;\n",
              "    }\n",
              "</style>\n",
              "<table border=\"1\" class=\"dataframe\">\n",
              "  <thead>\n",
              "    <tr style=\"text-align: right;\">\n",
              "      <th></th>\n",
              "      <th>country</th>\n",
              "      <th>description</th>\n",
              "      <th>designation</th>\n",
              "      <th>points</th>\n",
              "      <th>price</th>\n",
              "      <th>province</th>\n",
              "      <th>region_1</th>\n",
              "      <th>region_2</th>\n",
              "      <th>variety</th>\n",
              "      <th>winery</th>\n",
              "    </tr>\n",
              "  </thead>\n",
              "  <tbody>\n",
              "    <tr>\n",
              "      <th>0</th>\n",
              "      <td>US</td>\n",
              "      <td>This tremendous 100% varietal wine hails from ...</td>\n",
              "      <td>Martha's Vineyard</td>\n",
              "      <td>96</td>\n",
              "      <td>235.0</td>\n",
              "      <td>California</td>\n",
              "      <td>Napa Valley</td>\n",
              "      <td>Napa</td>\n",
              "      <td>Cabernet Sauvignon</td>\n",
              "      <td>Heitz</td>\n",
              "    </tr>\n",
              "  </tbody>\n",
              "</table>\n",
              "</div>"
            ],
            "text/plain": [
              "  country                                        description  \\\n",
              "0      US  This tremendous 100% varietal wine hails from ...   \n",
              "\n",
              "         designation  points  price    province     region_1 region_2  \\\n",
              "0  Martha's Vineyard      96  235.0  California  Napa Valley     Napa   \n",
              "\n",
              "              variety winery  \n",
              "0  Cabernet Sauvignon  Heitz  "
            ]
          },
          "execution_count": 98,
          "metadata": {},
          "output_type": "execute_result"
        }
      ],
      "source": [
        "data[0:1]"
      ]
    },
    {
      "cell_type": "code",
      "execution_count": 99,
      "metadata": {
        "id": "yCv7NWbVQRGh"
      },
      "outputs": [
        {
          "data": {
            "text/html": [
              "<div>\n",
              "<style scoped>\n",
              "    .dataframe tbody tr th:only-of-type {\n",
              "        vertical-align: middle;\n",
              "    }\n",
              "\n",
              "    .dataframe tbody tr th {\n",
              "        vertical-align: top;\n",
              "    }\n",
              "\n",
              "    .dataframe thead th {\n",
              "        text-align: right;\n",
              "    }\n",
              "</style>\n",
              "<table border=\"1\" class=\"dataframe\">\n",
              "  <thead>\n",
              "    <tr style=\"text-align: right;\">\n",
              "      <th></th>\n",
              "      <th>country</th>\n",
              "      <th>description</th>\n",
              "      <th>designation</th>\n",
              "      <th>points</th>\n",
              "      <th>price</th>\n",
              "      <th>province</th>\n",
              "      <th>region_1</th>\n",
              "      <th>region_2</th>\n",
              "      <th>variety</th>\n",
              "      <th>winery</th>\n",
              "    </tr>\n",
              "  </thead>\n",
              "  <tbody>\n",
              "    <tr>\n",
              "      <th>0</th>\n",
              "      <td>US</td>\n",
              "      <td>This tremendous 100% varietal wine hails from ...</td>\n",
              "      <td>Martha's Vineyard</td>\n",
              "      <td>96</td>\n",
              "      <td>235.0</td>\n",
              "      <td>California</td>\n",
              "      <td>Napa Valley</td>\n",
              "      <td>Napa</td>\n",
              "      <td>Cabernet Sauvignon</td>\n",
              "      <td>Heitz</td>\n",
              "    </tr>\n",
              "  </tbody>\n",
              "</table>\n",
              "</div>"
            ],
            "text/plain": [
              "  country                                        description  \\\n",
              "0      US  This tremendous 100% varietal wine hails from ...   \n",
              "\n",
              "         designation  points  price    province     region_1 region_2  \\\n",
              "0  Martha's Vineyard      96  235.0  California  Napa Valley     Napa   \n",
              "\n",
              "              variety winery  \n",
              "0  Cabernet Sauvignon  Heitz  "
            ]
          },
          "execution_count": 99,
          "metadata": {},
          "output_type": "execute_result"
        }
      ],
      "source": [
        "data[:1]"
      ]
    },
    {
      "cell_type": "markdown",
      "metadata": {
        "id": "gCKPIms6QRGh"
      },
      "source": [
        "#### Отбор по столбцам. Версия 2. Все еще по названиям"
      ]
    },
    {
      "cell_type": "code",
      "execution_count": 100,
      "metadata": {
        "id": "WtA73US8QRGh"
      },
      "outputs": [
        {
          "data": {
            "text/html": [
              "<div>\n",
              "<style scoped>\n",
              "    .dataframe tbody tr th:only-of-type {\n",
              "        vertical-align: middle;\n",
              "    }\n",
              "\n",
              "    .dataframe tbody tr th {\n",
              "        vertical-align: top;\n",
              "    }\n",
              "\n",
              "    .dataframe thead th {\n",
              "        text-align: right;\n",
              "    }\n",
              "</style>\n",
              "<table border=\"1\" class=\"dataframe\">\n",
              "  <thead>\n",
              "    <tr style=\"text-align: right;\">\n",
              "      <th></th>\n",
              "      <th>price</th>\n",
              "    </tr>\n",
              "  </thead>\n",
              "  <tbody>\n",
              "    <tr>\n",
              "      <th>0</th>\n",
              "      <td>235.0</td>\n",
              "    </tr>\n",
              "    <tr>\n",
              "      <th>1</th>\n",
              "      <td>110.0</td>\n",
              "    </tr>\n",
              "    <tr>\n",
              "      <th>2</th>\n",
              "      <td>90.0</td>\n",
              "    </tr>\n",
              "    <tr>\n",
              "      <th>3</th>\n",
              "      <td>65.0</td>\n",
              "    </tr>\n",
              "    <tr>\n",
              "      <th>4</th>\n",
              "      <td>66.0</td>\n",
              "    </tr>\n",
              "    <tr>\n",
              "      <th>...</th>\n",
              "      <td>...</td>\n",
              "    </tr>\n",
              "    <tr>\n",
              "      <th>150925</th>\n",
              "      <td>20.0</td>\n",
              "    </tr>\n",
              "    <tr>\n",
              "      <th>150926</th>\n",
              "      <td>27.0</td>\n",
              "    </tr>\n",
              "    <tr>\n",
              "      <th>150927</th>\n",
              "      <td>20.0</td>\n",
              "    </tr>\n",
              "    <tr>\n",
              "      <th>150928</th>\n",
              "      <td>52.0</td>\n",
              "    </tr>\n",
              "    <tr>\n",
              "      <th>150929</th>\n",
              "      <td>15.0</td>\n",
              "    </tr>\n",
              "  </tbody>\n",
              "</table>\n",
              "<p>150930 rows × 1 columns</p>\n",
              "</div>"
            ],
            "text/plain": [
              "        price\n",
              "0       235.0\n",
              "1       110.0\n",
              "2        90.0\n",
              "3        65.0\n",
              "4        66.0\n",
              "...       ...\n",
              "150925   20.0\n",
              "150926   27.0\n",
              "150927   20.0\n",
              "150928   52.0\n",
              "150929   15.0\n",
              "\n",
              "[150930 rows x 1 columns]"
            ]
          },
          "execution_count": 100,
          "metadata": {},
          "output_type": "execute_result"
        }
      ],
      "source": [
        "data.loc[:, ['price']]"
      ]
    },
    {
      "cell_type": "markdown",
      "metadata": {
        "id": "efsiWxEAQRGh"
      },
      "source": [
        "#### Отбор по  строкам. Версия 2. Все еще по названиям"
      ]
    },
    {
      "cell_type": "code",
      "execution_count": 101,
      "metadata": {
        "id": "a924q57UQRGh"
      },
      "outputs": [
        {
          "data": {
            "text/plain": [
              "country                                                       US\n",
              "description    This tremendous 100% varietal wine hails from ...\n",
              "designation                                    Martha's Vineyard\n",
              "points                                                        96\n",
              "price                                                      235.0\n",
              "province                                              California\n",
              "region_1                                             Napa Valley\n",
              "region_2                                                    Napa\n",
              "variety                                       Cabernet Sauvignon\n",
              "winery                                                     Heitz\n",
              "Name: 0, dtype: object"
            ]
          },
          "execution_count": 101,
          "metadata": {},
          "output_type": "execute_result"
        }
      ],
      "source": [
        "data.loc[0,:]"
      ]
    },
    {
      "cell_type": "markdown",
      "metadata": {
        "id": "aGqu6VRXQRGh"
      },
      "source": [
        "#### Отбор по строчкам и столбцам"
      ]
    },
    {
      "cell_type": "code",
      "execution_count": 102,
      "metadata": {
        "id": "ByH3PWfTQRGh"
      },
      "outputs": [
        {
          "data": {
            "text/html": [
              "<div>\n",
              "<style scoped>\n",
              "    .dataframe tbody tr th:only-of-type {\n",
              "        vertical-align: middle;\n",
              "    }\n",
              "\n",
              "    .dataframe tbody tr th {\n",
              "        vertical-align: top;\n",
              "    }\n",
              "\n",
              "    .dataframe thead th {\n",
              "        text-align: right;\n",
              "    }\n",
              "</style>\n",
              "<table border=\"1\" class=\"dataframe\">\n",
              "  <thead>\n",
              "    <tr style=\"text-align: right;\">\n",
              "      <th></th>\n",
              "      <th>price</th>\n",
              "      <th>country</th>\n",
              "    </tr>\n",
              "  </thead>\n",
              "  <tbody>\n",
              "    <tr>\n",
              "      <th>0</th>\n",
              "      <td>235.0</td>\n",
              "      <td>US</td>\n",
              "    </tr>\n",
              "    <tr>\n",
              "      <th>1</th>\n",
              "      <td>110.0</td>\n",
              "      <td>Spain</td>\n",
              "    </tr>\n",
              "    <tr>\n",
              "      <th>2</th>\n",
              "      <td>90.0</td>\n",
              "      <td>US</td>\n",
              "    </tr>\n",
              "    <tr>\n",
              "      <th>3</th>\n",
              "      <td>65.0</td>\n",
              "      <td>US</td>\n",
              "    </tr>\n",
              "    <tr>\n",
              "      <th>4</th>\n",
              "      <td>66.0</td>\n",
              "      <td>France</td>\n",
              "    </tr>\n",
              "    <tr>\n",
              "      <th>5</th>\n",
              "      <td>73.0</td>\n",
              "      <td>Spain</td>\n",
              "    </tr>\n",
              "  </tbody>\n",
              "</table>\n",
              "</div>"
            ],
            "text/plain": [
              "   price country\n",
              "0  235.0      US\n",
              "1  110.0   Spain\n",
              "2   90.0      US\n",
              "3   65.0      US\n",
              "4   66.0  France\n",
              "5   73.0   Spain"
            ]
          },
          "execution_count": 102,
          "metadata": {},
          "output_type": "execute_result"
        }
      ],
      "source": [
        "data.loc[0:5,['price', 'country']]"
      ]
    },
    {
      "cell_type": "markdown",
      "metadata": {
        "id": "ao8OJbhYQRGh"
      },
      "source": [
        "#### Отбор по строчкам и столбцам. Версия 3. По номеру строк и столбцов"
      ]
    },
    {
      "cell_type": "code",
      "execution_count": 103,
      "metadata": {
        "id": "YhQC9AbFQRGi",
        "scrolled": false
      },
      "outputs": [
        {
          "data": {
            "text/html": [
              "<div>\n",
              "<style scoped>\n",
              "    .dataframe tbody tr th:only-of-type {\n",
              "        vertical-align: middle;\n",
              "    }\n",
              "\n",
              "    .dataframe tbody tr th {\n",
              "        vertical-align: top;\n",
              "    }\n",
              "\n",
              "    .dataframe thead th {\n",
              "        text-align: right;\n",
              "    }\n",
              "</style>\n",
              "<table border=\"1\" class=\"dataframe\">\n",
              "  <thead>\n",
              "    <tr style=\"text-align: right;\">\n",
              "      <th></th>\n",
              "      <th>province</th>\n",
              "      <th>region_2</th>\n",
              "    </tr>\n",
              "  </thead>\n",
              "  <tbody>\n",
              "    <tr>\n",
              "      <th>2</th>\n",
              "      <td>California</td>\n",
              "      <td>Sonoma</td>\n",
              "    </tr>\n",
              "    <tr>\n",
              "      <th>3</th>\n",
              "      <td>Oregon</td>\n",
              "      <td>Willamette Valley</td>\n",
              "    </tr>\n",
              "    <tr>\n",
              "      <th>4</th>\n",
              "      <td>Provence</td>\n",
              "      <td>NaN</td>\n",
              "    </tr>\n",
              "  </tbody>\n",
              "</table>\n",
              "</div>"
            ],
            "text/plain": [
              "     province           region_2\n",
              "2  California             Sonoma\n",
              "3      Oregon  Willamette Valley\n",
              "4    Provence                NaN"
            ]
          },
          "execution_count": 103,
          "metadata": {},
          "output_type": "execute_result"
        }
      ],
      "source": [
        "data.iloc[2:5, [5,7]]"
      ]
    },
    {
      "cell_type": "markdown",
      "metadata": {
        "id": "dtwAXogsQRGi"
      },
      "source": [
        "## ⚡**Задача 6**\n",
        "\n",
        "Выберите первую строчку из датасета (вы его создавали в первом задании)\n"
      ]
    },
    {
      "cell_type": "code",
      "execution_count": 104,
      "metadata": {
        "id": "AJvYGpO9q-Lj"
      },
      "outputs": [
        {
          "name": "stdout",
          "output_type": "stream",
          "text": [
            "country                 Italy\n",
            "province    Sicily & Sardinia\n",
            "region_1                 Etna\n",
            "region_2                  NaN\n",
            "Name: 0, dtype: object\n"
          ]
        }
      ],
      "source": [
        "first_row = df.iloc[0]\n",
        "print(first_row)\n"
      ]
    },
    {
      "cell_type": "markdown",
      "metadata": {},
      "source": []
    },
    {
      "cell_type": "markdown",
      "metadata": {
        "id": "7Lnae7h6q69y"
      },
      "source": [
        "\n",
        "## ⚡**Задача 7**\n",
        "\n",
        "Сделайте срез (по номерам строк)"
      ]
    },
    {
      "cell_type": "code",
      "execution_count": 105,
      "metadata": {
        "id": "tP2BBEm3rEAB"
      },
      "outputs": [
        {
          "name": "stdout",
          "output_type": "stream",
          "text": [
            "  country           province region_1 region_2\n",
            "0   Italy  Sicily & Sardinia     Etna      NaN\n"
          ]
        }
      ],
      "source": [
        "sliced_row = df.iloc[0:1]\n",
        "print(sliced_row)\n"
      ]
    },
    {
      "cell_type": "markdown",
      "metadata": {
        "id": "Vd-lCVHgQRGi"
      },
      "source": [
        "#### Отбор с условиями\n",
        "\n",
        "Так, а если необходимо выбрать вина дороже $15 долларов?"
      ]
    },
    {
      "cell_type": "code",
      "execution_count": 106,
      "metadata": {
        "id": "OAJvgCJvQRGi"
      },
      "outputs": [],
      "source": [
        "#задаем маску\n",
        "mask = data['price'] > 15"
      ]
    },
    {
      "cell_type": "code",
      "execution_count": 107,
      "metadata": {
        "id": "4ax9_fV0QRGi"
      },
      "outputs": [
        {
          "data": {
            "text/html": [
              "<div>\n",
              "<style scoped>\n",
              "    .dataframe tbody tr th:only-of-type {\n",
              "        vertical-align: middle;\n",
              "    }\n",
              "\n",
              "    .dataframe tbody tr th {\n",
              "        vertical-align: top;\n",
              "    }\n",
              "\n",
              "    .dataframe thead th {\n",
              "        text-align: right;\n",
              "    }\n",
              "</style>\n",
              "<table border=\"1\" class=\"dataframe\">\n",
              "  <thead>\n",
              "    <tr style=\"text-align: right;\">\n",
              "      <th></th>\n",
              "      <th>country</th>\n",
              "      <th>description</th>\n",
              "      <th>designation</th>\n",
              "      <th>points</th>\n",
              "      <th>price</th>\n",
              "      <th>province</th>\n",
              "      <th>region_1</th>\n",
              "      <th>region_2</th>\n",
              "      <th>variety</th>\n",
              "      <th>winery</th>\n",
              "    </tr>\n",
              "  </thead>\n",
              "  <tbody>\n",
              "    <tr>\n",
              "      <th>0</th>\n",
              "      <td>US</td>\n",
              "      <td>This tremendous 100% varietal wine hails from ...</td>\n",
              "      <td>Martha's Vineyard</td>\n",
              "      <td>96</td>\n",
              "      <td>235.0</td>\n",
              "      <td>California</td>\n",
              "      <td>Napa Valley</td>\n",
              "      <td>Napa</td>\n",
              "      <td>Cabernet Sauvignon</td>\n",
              "      <td>Heitz</td>\n",
              "    </tr>\n",
              "    <tr>\n",
              "      <th>1</th>\n",
              "      <td>Spain</td>\n",
              "      <td>Ripe aromas of fig, blackberry and cassis are ...</td>\n",
              "      <td>Carodorum Selección Especial Reserva</td>\n",
              "      <td>96</td>\n",
              "      <td>110.0</td>\n",
              "      <td>Northern Spain</td>\n",
              "      <td>Toro</td>\n",
              "      <td>NaN</td>\n",
              "      <td>Tinta de Toro</td>\n",
              "      <td>Bodega Carmen Rodríguez</td>\n",
              "    </tr>\n",
              "    <tr>\n",
              "      <th>2</th>\n",
              "      <td>US</td>\n",
              "      <td>Mac Watson honors the memory of a wine once ma...</td>\n",
              "      <td>Special Selected Late Harvest</td>\n",
              "      <td>96</td>\n",
              "      <td>90.0</td>\n",
              "      <td>California</td>\n",
              "      <td>Knights Valley</td>\n",
              "      <td>Sonoma</td>\n",
              "      <td>Sauvignon Blanc</td>\n",
              "      <td>Macauley</td>\n",
              "    </tr>\n",
              "    <tr>\n",
              "      <th>3</th>\n",
              "      <td>US</td>\n",
              "      <td>This spent 20 months in 30% new French oak, an...</td>\n",
              "      <td>Reserve</td>\n",
              "      <td>96</td>\n",
              "      <td>65.0</td>\n",
              "      <td>Oregon</td>\n",
              "      <td>Willamette Valley</td>\n",
              "      <td>Willamette Valley</td>\n",
              "      <td>Pinot Noir</td>\n",
              "      <td>Ponzi</td>\n",
              "    </tr>\n",
              "    <tr>\n",
              "      <th>4</th>\n",
              "      <td>France</td>\n",
              "      <td>This is the top wine from La Bégude, named aft...</td>\n",
              "      <td>La Brûlade</td>\n",
              "      <td>95</td>\n",
              "      <td>66.0</td>\n",
              "      <td>Provence</td>\n",
              "      <td>Bandol</td>\n",
              "      <td>NaN</td>\n",
              "      <td>Provence red blend</td>\n",
              "      <td>Domaine de la Bégude</td>\n",
              "    </tr>\n",
              "    <tr>\n",
              "      <th>...</th>\n",
              "      <td>...</td>\n",
              "      <td>...</td>\n",
              "      <td>...</td>\n",
              "      <td>...</td>\n",
              "      <td>...</td>\n",
              "      <td>...</td>\n",
              "      <td>...</td>\n",
              "      <td>...</td>\n",
              "      <td>...</td>\n",
              "      <td>...</td>\n",
              "    </tr>\n",
              "    <tr>\n",
              "      <th>150924</th>\n",
              "      <td>France</td>\n",
              "      <td>Really fine for a low-acid vintage, there's an...</td>\n",
              "      <td>Diamant Bleu</td>\n",
              "      <td>91</td>\n",
              "      <td>70.0</td>\n",
              "      <td>Champagne</td>\n",
              "      <td>Champagne</td>\n",
              "      <td>NaN</td>\n",
              "      <td>Champagne Blend</td>\n",
              "      <td>Heidsieck &amp; Co Monopole</td>\n",
              "    </tr>\n",
              "    <tr>\n",
              "      <th>150925</th>\n",
              "      <td>Italy</td>\n",
              "      <td>Many people feel Fiano represents southern Ita...</td>\n",
              "      <td>NaN</td>\n",
              "      <td>91</td>\n",
              "      <td>20.0</td>\n",
              "      <td>Southern Italy</td>\n",
              "      <td>Fiano di Avellino</td>\n",
              "      <td>NaN</td>\n",
              "      <td>White Blend</td>\n",
              "      <td>Feudi di San Gregorio</td>\n",
              "    </tr>\n",
              "    <tr>\n",
              "      <th>150926</th>\n",
              "      <td>France</td>\n",
              "      <td>Offers an intriguing nose with ginger, lime an...</td>\n",
              "      <td>Cuvée Prestige</td>\n",
              "      <td>91</td>\n",
              "      <td>27.0</td>\n",
              "      <td>Champagne</td>\n",
              "      <td>Champagne</td>\n",
              "      <td>NaN</td>\n",
              "      <td>Champagne Blend</td>\n",
              "      <td>H.Germain</td>\n",
              "    </tr>\n",
              "    <tr>\n",
              "      <th>150927</th>\n",
              "      <td>Italy</td>\n",
              "      <td>This classic example comes from a cru vineyard...</td>\n",
              "      <td>Terre di Dora</td>\n",
              "      <td>91</td>\n",
              "      <td>20.0</td>\n",
              "      <td>Southern Italy</td>\n",
              "      <td>Fiano di Avellino</td>\n",
              "      <td>NaN</td>\n",
              "      <td>White Blend</td>\n",
              "      <td>Terredora</td>\n",
              "    </tr>\n",
              "    <tr>\n",
              "      <th>150928</th>\n",
              "      <td>France</td>\n",
              "      <td>A perfect salmon shade, with scents of peaches...</td>\n",
              "      <td>Grand Brut Rosé</td>\n",
              "      <td>90</td>\n",
              "      <td>52.0</td>\n",
              "      <td>Champagne</td>\n",
              "      <td>Champagne</td>\n",
              "      <td>NaN</td>\n",
              "      <td>Champagne Blend</td>\n",
              "      <td>Gosset</td>\n",
              "    </tr>\n",
              "  </tbody>\n",
              "</table>\n",
              "<p>103342 rows × 10 columns</p>\n",
              "</div>"
            ],
            "text/plain": [
              "       country                                        description  \\\n",
              "0           US  This tremendous 100% varietal wine hails from ...   \n",
              "1        Spain  Ripe aromas of fig, blackberry and cassis are ...   \n",
              "2           US  Mac Watson honors the memory of a wine once ma...   \n",
              "3           US  This spent 20 months in 30% new French oak, an...   \n",
              "4       France  This is the top wine from La Bégude, named aft...   \n",
              "...        ...                                                ...   \n",
              "150924  France  Really fine for a low-acid vintage, there's an...   \n",
              "150925   Italy  Many people feel Fiano represents southern Ita...   \n",
              "150926  France  Offers an intriguing nose with ginger, lime an...   \n",
              "150927   Italy  This classic example comes from a cru vineyard...   \n",
              "150928  France  A perfect salmon shade, with scents of peaches...   \n",
              "\n",
              "                                 designation  points  price        province  \\\n",
              "0                          Martha's Vineyard      96  235.0      California   \n",
              "1       Carodorum Selección Especial Reserva      96  110.0  Northern Spain   \n",
              "2              Special Selected Late Harvest      96   90.0      California   \n",
              "3                                    Reserve      96   65.0          Oregon   \n",
              "4                                 La Brûlade      95   66.0        Provence   \n",
              "...                                      ...     ...    ...             ...   \n",
              "150924                          Diamant Bleu      91   70.0       Champagne   \n",
              "150925                                   NaN      91   20.0  Southern Italy   \n",
              "150926                        Cuvée Prestige      91   27.0       Champagne   \n",
              "150927                         Terre di Dora      91   20.0  Southern Italy   \n",
              "150928                       Grand Brut Rosé      90   52.0       Champagne   \n",
              "\n",
              "                 region_1           region_2             variety  \\\n",
              "0             Napa Valley               Napa  Cabernet Sauvignon   \n",
              "1                    Toro                NaN       Tinta de Toro   \n",
              "2          Knights Valley             Sonoma     Sauvignon Blanc   \n",
              "3       Willamette Valley  Willamette Valley          Pinot Noir   \n",
              "4                  Bandol                NaN  Provence red blend   \n",
              "...                   ...                ...                 ...   \n",
              "150924          Champagne                NaN     Champagne Blend   \n",
              "150925  Fiano di Avellino                NaN         White Blend   \n",
              "150926          Champagne                NaN     Champagne Blend   \n",
              "150927  Fiano di Avellino                NaN         White Blend   \n",
              "150928          Champagne                NaN     Champagne Blend   \n",
              "\n",
              "                         winery  \n",
              "0                         Heitz  \n",
              "1       Bodega Carmen Rodríguez  \n",
              "2                      Macauley  \n",
              "3                         Ponzi  \n",
              "4          Domaine de la Bégude  \n",
              "...                         ...  \n",
              "150924  Heidsieck & Co Monopole  \n",
              "150925    Feudi di San Gregorio  \n",
              "150926                H.Germain  \n",
              "150927                Terredora  \n",
              "150928                   Gosset  \n",
              "\n",
              "[103342 rows x 10 columns]"
            ]
          },
          "execution_count": 107,
          "metadata": {},
          "output_type": "execute_result"
        }
      ],
      "source": [
        "#и отбираем данные\n",
        "\n",
        "temp = data[mask]\n",
        "temp"
      ]
    },
    {
      "cell_type": "markdown",
      "metadata": {
        "id": "2L72IsLsQRGi"
      },
      "source": [
        "## ⚡**Задача 8**"
      ]
    },
    {
      "cell_type": "code",
      "execution_count": 108,
      "metadata": {},
      "outputs": [
        {
          "name": "stdout",
          "output_type": "stream",
          "text": [
            "       country                                        description  \\\n",
            "0           US  This tremendous 100% varietal wine hails from ...   \n",
            "1        Spain  Ripe aromas of fig, blackberry and cassis are ...   \n",
            "2           US  Mac Watson honors the memory of a wine once ma...   \n",
            "3           US  This spent 20 months in 30% new French oak, an...   \n",
            "4       France  This is the top wine from La Bégude, named aft...   \n",
            "...        ...                                                ...   \n",
            "150924  France  Really fine for a low-acid vintage, there's an...   \n",
            "150925   Italy  Many people feel Fiano represents southern Ita...   \n",
            "150926  France  Offers an intriguing nose with ginger, lime an...   \n",
            "150927   Italy  This classic example comes from a cru vineyard...   \n",
            "150928  France  A perfect salmon shade, with scents of peaches...   \n",
            "\n",
            "                                 designation  points  price        province  \\\n",
            "0                          Martha's Vineyard      96  235.0      California   \n",
            "1       Carodorum Selección Especial Reserva      96  110.0  Northern Spain   \n",
            "2              Special Selected Late Harvest      96   90.0      California   \n",
            "3                                    Reserve      96   65.0          Oregon   \n",
            "4                                 La Brûlade      95   66.0        Provence   \n",
            "...                                      ...     ...    ...             ...   \n",
            "150924                          Diamant Bleu      91   70.0       Champagne   \n",
            "150925                                   NaN      91   20.0  Southern Italy   \n",
            "150926                        Cuvée Prestige      91   27.0       Champagne   \n",
            "150927                         Terre di Dora      91   20.0  Southern Italy   \n",
            "150928                       Grand Brut Rosé      90   52.0       Champagne   \n",
            "\n",
            "                 region_1           region_2             variety  \\\n",
            "0             Napa Valley               Napa  Cabernet Sauvignon   \n",
            "1                    Toro                NaN       Tinta de Toro   \n",
            "2          Knights Valley             Sonoma     Sauvignon Blanc   \n",
            "3       Willamette Valley  Willamette Valley          Pinot Noir   \n",
            "4                  Bandol                NaN  Provence red blend   \n",
            "...                   ...                ...                 ...   \n",
            "150924          Champagne                NaN     Champagne Blend   \n",
            "150925  Fiano di Avellino                NaN         White Blend   \n",
            "150926          Champagne                NaN     Champagne Blend   \n",
            "150927  Fiano di Avellino                NaN         White Blend   \n",
            "150928          Champagne                NaN     Champagne Blend   \n",
            "\n",
            "                         winery  \n",
            "0                         Heitz  \n",
            "1       Bodega Carmen Rodríguez  \n",
            "2                      Macauley  \n",
            "3                         Ponzi  \n",
            "4          Domaine de la Bégude  \n",
            "...                         ...  \n",
            "150924  Heidsieck & Co Monopole  \n",
            "150925    Feudi di San Gregorio  \n",
            "150926                H.Germain  \n",
            "150927                Terredora  \n",
            "150928                   Gosset  \n",
            "\n",
            "[103342 rows x 10 columns]\n"
          ]
        }
      ],
      "source": [
        "data = pd.read_csv('winemag-data_first150k.csv', index_col=0)\n",
        "\n",
        "mask = data['price'] > 15\n",
        "filtered_wines = data[mask]\n",
        "print(filtered_wines)\n"
      ]
    },
    {
      "cell_type": "markdown",
      "metadata": {
        "id": "7B9Twa-mQRGi"
      },
      "source": [
        "### Посмотрим на данные еще раз!"
      ]
    },
    {
      "cell_type": "markdown",
      "metadata": {
        "id": "PB6PYf2_QRGi"
      },
      "source": [
        "В библиотеке pandas есть инструмент для рисования!\n",
        "\n",
        "- df.plot() - метод для рисования\n",
        "\n",
        "Давайте попробуем  просто вызвать без всего и посмотрим, что выйдет."
      ]
    },
    {
      "cell_type": "code",
      "execution_count": 109,
      "metadata": {
        "id": "kycFP68kQRGi"
      },
      "outputs": [
        {
          "data": {
            "text/plain": [
              "<Axes: >"
            ]
          },
          "execution_count": 109,
          "metadata": {},
          "output_type": "execute_result"
        },
        {
          "data": {
            "image/png": "[encoded data removed]",
            "text/plain": [
              "<Figure size 640x480 with 1 Axes>"
            ]
          },
          "metadata": {},
          "output_type": "display_data"
        }
      ],
      "source": [
        "data.plot()"
      ]
    },
    {
      "cell_type": "markdown",
      "metadata": {
        "id": "YxotmlBLQRGi"
      },
      "source": [
        "Не очень."
      ]
    },
    {
      "cell_type": "code",
      "execution_count": 110,
      "metadata": {
        "id": "iEXOEejtQRGi"
      },
      "outputs": [
        {
          "data": {
            "text/plain": [
              "<Axes: >"
            ]
          },
          "execution_count": 110,
          "metadata": {},
          "output_type": "execute_result"
        },
        {
          "data": {
            "image/png": "[encoded data removed]",
            "text/plain": [
              "<Figure size 640x480 with 1 Axes>"
            ]
          },
          "metadata": {},
          "output_type": "display_data"
        }
      ],
      "source": [
        "data['price'].plot()"
      ]
    },
    {
      "cell_type": "code",
      "execution_count": 111,
      "metadata": {
        "id": "G8tm9d67QRGj",
        "scrolled": true
      },
      "outputs": [
        {
          "data": {
            "text/plain": [
              "<Axes: >"
            ]
          },
          "execution_count": 111,
          "metadata": {},
          "output_type": "execute_result"
        },
        {
          "data": {
            "image/png": "[encoded data removed]",
            "text/plain": [
              "<Figure size 640x480 with 1 Axes>"
            ]
          },
          "metadata": {},
          "output_type": "display_data"
        }
      ],
      "source": [
        "data['points'].plot()"
      ]
    },
    {
      "cell_type": "markdown",
      "metadata": {
        "id": "vwGA4JNqQRGj"
      },
      "source": [
        "Что-то все не очень. Давайте попробуем добиться какой-нибудь разумной визуализации столбца points."
      ]
    },
    {
      "cell_type": "code",
      "execution_count": 112,
      "metadata": {
        "id": "AYxgDpK9QRGj"
      },
      "outputs": [
        {
          "data": {
            "text/plain": [
              "<Axes: xlabel='points'>"
            ]
          },
          "execution_count": 112,
          "metadata": {},
          "output_type": "execute_result"
        },
        {
          "data": {
            "image/png": "[encoded data removed]",
            "text/plain": [
              "<Figure size 640x480 with 1 Axes>"
            ]
          },
          "metadata": {},
          "output_type": "display_data"
        }
      ],
      "source": [
        "data['points'].value_counts().plot(kind='bar')"
      ]
    },
    {
      "cell_type": "markdown",
      "metadata": {
        "id": "sICTg8gAQRGj"
      },
      "source": [
        "А что это за value_counts()?"
      ]
    },
    {
      "cell_type": "code",
      "execution_count": 113,
      "metadata": {
        "id": "adMo1bpLQRGj"
      },
      "outputs": [
        {
          "data": {
            "text/plain": [
              "points\n",
              "87     20747\n",
              "88     17871\n",
              "90     15973\n",
              "86     15573\n",
              "89     12921\n",
              "85     12411\n",
              "84     10708\n",
              "91     10536\n",
              "92      9241\n",
              "83      6048\n",
              "93      6017\n",
              "82      4041\n",
              "94      3462\n",
              "95      1716\n",
              "81      1502\n",
              "80       898\n",
              "96       695\n",
              "97       365\n",
              "98       131\n",
              "99        50\n",
              "100       24\n",
              "Name: count, dtype: int64"
            ]
          },
          "execution_count": 113,
          "metadata": {},
          "output_type": "execute_result"
        }
      ],
      "source": [
        "data['points'].value_counts()"
      ]
    },
    {
      "cell_type": "code",
      "execution_count": 114,
      "metadata": {
        "id": "CdI7vYQtQRGj"
      },
      "outputs": [
        {
          "data": {
            "text/plain": [
              "<Axes: ylabel='points'>"
            ]
          },
          "execution_count": 114,
          "metadata": {},
          "output_type": "execute_result"
        },
        {
          "data": {
            "image/png": "[encoded data removed]",
            "text/plain": [
              "<Figure size 640x480 with 1 Axes>"
            ]
          },
          "metadata": {},
          "output_type": "display_data"
        }
      ],
      "source": [
        "data['points'].value_counts().plot(kind='barh')"
      ]
    },
    {
      "cell_type": "code",
      "execution_count": 115,
      "metadata": {
        "id": "5chAZ074QRGj"
      },
      "outputs": [
        {
          "data": {
            "text/plain": [
              "<Axes: xlabel='points'>"
            ]
          },
          "execution_count": 115,
          "metadata": {},
          "output_type": "execute_result"
        },
        {
          "data": {
            "image/png": "[encoded data removed]",
            "text/plain": [
              "<Figure size 640x480 with 1 Axes>"
            ]
          },
          "metadata": {},
          "output_type": "display_data"
        }
      ],
      "source": [
        "data['points'].value_counts().plot(kind='line')"
      ]
    },
    {
      "cell_type": "markdown",
      "metadata": {
        "id": "zk0-9K_NQRGj"
      },
      "source": [
        "Опять некрасиво. Потому что у нас индексы не отсортированы при value_counts()!\n",
        "\n",
        "Поправим"
      ]
    },
    {
      "cell_type": "code",
      "execution_count": 116,
      "metadata": {
        "id": "BuiCIloJQRGj"
      },
      "outputs": [
        {
          "data": {
            "text/plain": [
              "<Axes: xlabel='points'>"
            ]
          },
          "execution_count": 116,
          "metadata": {},
          "output_type": "execute_result"
        },
        {
          "data": {
            "image/png": "[encoded data removed]",
            "text/plain": [
              "<Figure size 640x480 with 1 Axes>"
            ]
          },
          "metadata": {},
          "output_type": "display_data"
        }
      ],
      "source": [
        "data['points'].value_counts().sort_index().plot(kind='line')"
      ]
    },
    {
      "cell_type": "code",
      "execution_count": 117,
      "metadata": {
        "id": "1Wk_0CM2QRGj"
      },
      "outputs": [
        {
          "data": {
            "text/plain": [
              "<Axes: xlabel='points'>"
            ]
          },
          "execution_count": 117,
          "metadata": {},
          "output_type": "execute_result"
        },
        {
          "data": {
            "image/png": "[encoded data removed]",
            "text/plain": [
              "<Figure size 640x480 with 1 Axes>"
            ]
          },
          "metadata": {},
          "output_type": "display_data"
        }
      ],
      "source": [
        "data['points'].value_counts().sort_index().plot(kind='area')"
      ]
    },
    {
      "cell_type": "code",
      "execution_count": 118,
      "metadata": {
        "id": "Ngt38no9QRGj"
      },
      "outputs": [
        {
          "data": {
            "text/plain": [
              "<Axes: ylabel='Frequency'>"
            ]
          },
          "execution_count": 118,
          "metadata": {},
          "output_type": "execute_result"
        },
        {
          "data": {
            "image/png": "[encoded data removed]",
            "text/plain": [
              "<Figure size 640x480 with 1 Axes>"
            ]
          },
          "metadata": {},
          "output_type": "display_data"
        }
      ],
      "source": [
        "data['points'].sort_index().plot(kind='hist')"
      ]
    },
    {
      "cell_type": "code",
      "execution_count": 119,
      "metadata": {
        "id": "m4bPELhTQRGk",
        "scrolled": true
      },
      "outputs": [
        {
          "data": {
            "text/plain": [
              "<Axes: >"
            ]
          },
          "execution_count": 119,
          "metadata": {},
          "output_type": "execute_result"
        },
        {
          "data": {
            "image/png": "[encoded data removed]",
            "text/plain": [
              "<Figure size 640x480 with 1 Axes>"
            ]
          },
          "metadata": {},
          "output_type": "display_data"
        }
      ],
      "source": [
        "data['points'].plot(kind='box')"
      ]
    },
    {
      "cell_type": "markdown",
      "metadata": {
        "id": "8CvYgda6QRGk"
      },
      "source": [
        "Ну вроде про один столбец разобрались. А как красиво сразу про все столбцы нарисовать?"
      ]
    },
    {
      "cell_type": "code",
      "execution_count": 120,
      "metadata": {
        "id": "Q1cAooQpQRGk"
      },
      "outputs": [
        {
          "data": {
            "text/plain": [
              "<Axes: >"
            ]
          },
          "execution_count": 120,
          "metadata": {},
          "output_type": "execute_result"
        },
        {
          "data": {
            "image/png": "[encoded data removed]",
            "text/plain": [
              "<Figure size 640x480 with 1 Axes>"
            ]
          },
          "metadata": {},
          "output_type": "display_data"
        }
      ],
      "source": [
        "data.plot(kind ='box')"
      ]
    },
    {
      "cell_type": "code",
      "execution_count": 121,
      "metadata": {
        "id": "AXbwcQQnQRGk"
      },
      "outputs": [
        {
          "data": {
            "text/plain": [
              "points       Axes(0.125,0.11;0.352273x0.77)\n",
              "price     Axes(0.547727,0.11;0.352273x0.77)\n",
              "dtype: object"
            ]
          },
          "execution_count": 121,
          "metadata": {},
          "output_type": "execute_result"
        },
        {
          "data": {
            "image/png": "[encoded data removed]",
            "text/plain": [
              "<Figure size 640x480 with 2 Axes>"
            ]
          },
          "metadata": {},
          "output_type": "display_data"
        }
      ],
      "source": [
        "data.plot(kind='box', subplots=True)"
      ]
    },
    {
      "cell_type": "markdown",
      "metadata": {
        "id": "NdbQ8BkAQRGk"
      },
      "source": [
        "А совместно как распределены цены и оценки?\n",
        "\n",
        "\n",
        "**Файл**:\n",
        "https://github.com/morisasy/kaggle/blob/master/data/top-five-wine-score-counts.csv"
      ]
    },
    {
      "cell_type": "code",
      "execution_count": 122,
      "metadata": {
        "id": "6E6897ynQRGk",
        "scrolled": true
      },
      "outputs": [
        {
          "data": {
            "text/plain": [
              "<Axes: xlabel='points', ylabel='price'>"
            ]
          },
          "execution_count": 122,
          "metadata": {},
          "output_type": "execute_result"
        },
        {
          "data": {
            "image/png": "[encoded data removed]",
            "text/plain": [
              "<Figure size 640x480 with 1 Axes>"
            ]
          },
          "metadata": {},
          "output_type": "display_data"
        }
      ],
      "source": [
        " data.plot(x='points', y='price', kind='scatter')"
      ]
    },
    {
      "cell_type": "code",
      "execution_count": 123,
      "metadata": {
        "id": "2UyuuJtsQRGk"
      },
      "outputs": [
        {
          "data": {
            "text/html": [
              "<div>\n",
              "<style scoped>\n",
              "    .dataframe tbody tr th:only-of-type {\n",
              "        vertical-align: middle;\n",
              "    }\n",
              "\n",
              "    .dataframe tbody tr th {\n",
              "        vertical-align: top;\n",
              "    }\n",
              "\n",
              "    .dataframe thead th {\n",
              "        text-align: right;\n",
              "    }\n",
              "</style>\n",
              "<table border=\"1\" class=\"dataframe\">\n",
              "  <thead>\n",
              "    <tr style=\"text-align: right;\">\n",
              "      <th></th>\n",
              "      <th>points</th>\n",
              "      <th>Bordeaux-style Red Blend</th>\n",
              "      <th>Cabernet Sauvignon</th>\n",
              "      <th>Chardonnay</th>\n",
              "      <th>Pinot Noir</th>\n",
              "      <th>Red Blend</th>\n",
              "    </tr>\n",
              "  </thead>\n",
              "  <tbody>\n",
              "    <tr>\n",
              "      <th>0</th>\n",
              "      <td>80</td>\n",
              "      <td>5.0</td>\n",
              "      <td>87.0</td>\n",
              "      <td>68.0</td>\n",
              "      <td>36.0</td>\n",
              "      <td>72.0</td>\n",
              "    </tr>\n",
              "    <tr>\n",
              "      <th>1</th>\n",
              "      <td>81</td>\n",
              "      <td>18.0</td>\n",
              "      <td>159.0</td>\n",
              "      <td>150.0</td>\n",
              "      <td>83.0</td>\n",
              "      <td>107.0</td>\n",
              "    </tr>\n",
              "    <tr>\n",
              "      <th>2</th>\n",
              "      <td>82</td>\n",
              "      <td>72.0</td>\n",
              "      <td>435.0</td>\n",
              "      <td>517.0</td>\n",
              "      <td>295.0</td>\n",
              "      <td>223.0</td>\n",
              "    </tr>\n",
              "  </tbody>\n",
              "</table>\n",
              "</div>"
            ],
            "text/plain": [
              "   points  Bordeaux-style Red Blend  Cabernet Sauvignon  Chardonnay  \\\n",
              "0      80                       5.0                87.0        68.0   \n",
              "1      81                      18.0               159.0       150.0   \n",
              "2      82                      72.0               435.0       517.0   \n",
              "\n",
              "   Pinot Noir  Red Blend  \n",
              "0        36.0       72.0  \n",
              "1        83.0      107.0  \n",
              "2       295.0      223.0  "
            ]
          },
          "execution_count": 123,
          "metadata": {},
          "output_type": "execute_result"
        }
      ],
      "source": [
        "wine_counts = pd.read_csv('top-five-wine-score-counts.csv')\n",
        "wine_counts.head(3)"
      ]
    },
    {
      "cell_type": "code",
      "execution_count": 124,
      "metadata": {
        "id": "qhJKtx1dQRGk"
      },
      "outputs": [
        {
          "data": {
            "text/plain": [
              "<Axes: xlabel='points'>"
            ]
          },
          "execution_count": 124,
          "metadata": {},
          "output_type": "execute_result"
        },
        {
          "data": {
            "image/png": "[encoded data removed]",
            "text/plain": [
              "<Figure size 640x480 with 1 Axes>"
            ]
          },
          "metadata": {},
          "output_type": "display_data"
        }
      ],
      "source": [
        "wine_counts.plot.line(x='points')"
      ]
    },
    {
      "cell_type": "code",
      "execution_count": 125,
      "metadata": {
        "id": "oH-T-roWQRGk"
      },
      "outputs": [
        {
          "data": {
            "text/plain": [
              "<Axes: xlabel='points'>"
            ]
          },
          "execution_count": 125,
          "metadata": {},
          "output_type": "execute_result"
        },
        {
          "data": {
            "image/png": "[encoded data removed]",
            "text/plain": [
              "<Figure size 640x480 with 1 Axes>"
            ]
          },
          "metadata": {},
          "output_type": "display_data"
        }
      ],
      "source": [
        "wine_counts.plot.area(x='points')"
      ]
    },
    {
      "cell_type": "code",
      "execution_count": 126,
      "metadata": {
        "id": "De01oEQjQRGk"
      },
      "outputs": [
        {
          "data": {
            "text/plain": [
              "<Axes: xlabel='points'>"
            ]
          },
          "execution_count": 126,
          "metadata": {},
          "output_type": "execute_result"
        },
        {
          "data": {
            "image/png": "[encoded data removed]",
            "text/plain": [
              "<Figure size 640x480 with 1 Axes>"
            ]
          },
          "metadata": {},
          "output_type": "display_data"
        }
      ],
      "source": [
        "wine_counts.plot.bar(x='points', stacked=True)"
      ]
    },
    {
      "cell_type": "markdown",
      "metadata": {
        "id": "leswywY5QRGl"
      },
      "source": [
        "## ⚡**Задача 9**\n",
        "\n",
        "Нарисовать barplot для столбца 'country' топ-10 стран производителей.\n",
        "\n",
        "1) Нужно взять столбец country <br>\n",
        "2) Применить к нему метод value_counts() <br>\n",
        "3) Потом применить к нему метод sort_index() <br>\n",
        "4) Потом применить к нему метод head(10) <br>\n",
        "5) Потом применить метод plot(kind='bar') <br>"
      ]
    },
    {
      "cell_type": "code",
      "execution_count": 127,
      "metadata": {
        "id": "16B1SIacrgl7"
      },
      "outputs": [
        {
          "data": {
            "image/png": "[encoded data removed]",
            "text/plain": [
              "<Figure size 1000x600 with 1 Axes>"
            ]
          },
          "metadata": {},
          "output_type": "display_data"
        }
      ],
      "source": [
        "import matplotlib.pyplot as plt\n",
        "\n",
        "# Получаем количество вин по странам, сортируем и берем топ-10\n",
        "top_countries = data['country'].value_counts().sort_index().head(10)\n",
        "\n",
        "# Визуализируем barplot\n",
        "top_countries.plot(kind='bar', figsize=(10, 6), color='skyblue')\n",
        "plt.title('Top 10 Countries Producing Wines')\n",
        "plt.xlabel('Country')\n",
        "plt.ylabel('Number of Wines')\n",
        "plt.xticks(rotation=45)\n",
        "plt.show()"
      ]
    }
  ],
  "metadata": {
    "colab": {
      "provenance": []
    },
    "kernelspec": {
      "display_name": "Python 3",
      "language": "python",
      "name": "python3"
    },
    "language_info": {
      "codemirror_mode": {
        "name": "ipython",
        "version": 3
      },
      "file_extension": ".py",
      "mimetype": "text/x-python",
      "name": "python",
      "nbconvert_exporter": "python",
      "pygments_lexer": "ipython3",
      "version": "3.12.5"
    }
  },
  "nbformat": 4,
  "nbformat_minor": 0
}
