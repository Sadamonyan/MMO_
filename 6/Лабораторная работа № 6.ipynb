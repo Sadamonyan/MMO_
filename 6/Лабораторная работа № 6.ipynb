{
 "cells": [
  {
   "cell_type": "markdown",
   "id": "48b5b9de",
   "metadata": {},
   "source": [
    "### Модель классификации с использованием **наивного байесовского алгоритма** с анализом данных о заработной плате"
   ]
  },
  {
   "cell_type": "code",
   "execution_count": 1,
   "id": "4c4c8cf3",
   "metadata": {
    "ExecuteTime": {
     "end_time": "2022-11-10T14:58:54.371696Z",
     "start_time": "2022-11-10T14:58:52.873840Z"
    }
   },
   "outputs": [],
   "source": [
    "import pandas as pd \n",
    "import numpy as np\n",
    "import matplotlib.pyplot as plt\n",
    "import seaborn as sns \n",
    "\n",
    "import warnings\n",
    "warnings.filterwarnings('ignore') "
   ]
  },
  {
   "cell_type": "code",
   "execution_count": null,
   "id": "cbe3ebc9",
   "metadata": {
    "ExecuteTime": {
     "end_time": "2022-11-10T14:58:54.429129Z",
     "start_time": "2022-11-10T14:58:54.371696Z"
    }
   },
   "outputs": [],
   "source": [
    "salary_train = pd.read_csv('SalaryData_Train.csv')\n",
    "salary_train "
   ]
  },
  {
   "cell_type": "code",
   "execution_count": null,
   "id": "272416fa",
   "metadata": {
    "ExecuteTime": {
     "end_time": "2022-11-10T14:58:54.476308Z",
     "start_time": "2022-11-10T14:58:54.429129Z"
    }
   },
   "outputs": [],
   "source": [
    "salary_test = pd.read_csv('SalaryData_Test.csv')\n",
    "salary_test "
   ]
  },
  {
   "cell_type": "markdown",
   "id": "c1be38bd",
   "metadata": {},
   "source": [
    "Традиционно мы выполняем EDA (разведочный анализ данных), визуализацию, а затем разделяем данные на обучающую и тестовую выборки. Однако у нас уже есть два файла с обучающим и тестовым наборами. Поэтому мы объединим их, выполним EDA и визуализацию, а затем снова разделим данные, чтобы применить алгоритмы машинного обучения."
   ]
  },
  {
   "cell_type": "code",
   "execution_count": null,
   "id": "73bd9315",
   "metadata": {
    "ExecuteTime": {
     "end_time": "2022-11-10T14:58:54.740720Z",
     "start_time": "2022-11-10T14:58:54.476308Z"
    }
   },
   "outputs": [],
   "source": [
    "#Объединим обучающий и тестовый наборы данных\n",
    "salary = salary_train._append(salary_test)\n",
    "salary.reset_index(inplace=True)\n",
    "salary = salary.drop(['index'], axis=1) \n",
    "salary.tail()"
   ]
  },
  {
   "cell_type": "markdown",
   "id": "56cd36af",
   "metadata": {},
   "source": [
    "# Описательная статистика"
   ]
  },
  {
   "cell_type": "code",
   "execution_count": null,
   "id": "76d864c1",
   "metadata": {
    "ExecuteTime": {
     "end_time": "2022-11-10T14:58:54.796805Z",
     "start_time": "2022-11-10T14:58:54.740720Z"
    }
   },
   "outputs": [],
   "source": [
    "salary.info()"
   ]
  },
  {
   "cell_type": "code",
   "execution_count": null,
   "id": "832aea56",
   "metadata": {
    "ExecuteTime": {
     "end_time": "2022-11-10T14:58:54.828831Z",
     "start_time": "2022-11-10T14:58:54.796805Z"
    }
   },
   "outputs": [],
   "source": [
    "salary.describe()"
   ]
  },
  {
   "cell_type": "code",
   "execution_count": null,
   "id": "963cc391",
   "metadata": {
    "ExecuteTime": {
     "end_time": "2022-11-10T14:58:54.844979Z",
     "start_time": "2022-11-10T14:58:54.829860Z"
    }
   },
   "outputs": [],
   "source": [
    "salary.shape"
   ]
  },
  {
   "cell_type": "code",
   "execution_count": null,
   "id": "6db760ed",
   "metadata": {
    "ExecuteTime": {
     "end_time": "2022-11-10T14:58:54.892873Z",
     "start_time": "2022-11-10T14:58:54.844979Z"
    }
   },
   "outputs": [],
   "source": [
    "# Проверка на отсутствующие значения\n",
    "salary.isna().sum().sum()"
   ]
  },
  {
   "cell_type": "code",
   "execution_count": null,
   "id": "779a00e0",
   "metadata": {
    "ExecuteTime": {
     "end_time": "2022-11-10T14:58:54.908877Z",
     "start_time": "2022-11-10T14:58:54.892873Z"
    }
   },
   "outputs": [],
   "source": [
    "# Числовые признаки\n",
    "\n",
    "numeric_features = [feature for feature in salary.columns if salary[feature].dtypes != 'O']\n",
    "print('Числовые признаки:', numeric_features, '\\n')"
   ]
  },
  {
   "cell_type": "code",
   "execution_count": null,
   "id": "7e2cd9db",
   "metadata": {
    "ExecuteTime": {
     "end_time": "2022-11-10T14:58:54.924877Z",
     "start_time": "2022-11-10T14:58:54.908877Z"
    }
   },
   "outputs": [],
   "source": [
    "#В числовых признаках есть 2 типа: дискретные и непрерывные.\n",
    "\n",
    "discrete_features = [feature for feature in numeric_features if len(salary[feature].unique())<25]\n",
    "print('Дискретные:', discrete_features, '\\n')\n",
    "\n",
    "continuous_features = [feature for feature in numeric_features if feature not in discrete_features]\n",
    "print('Непрерывные:', continuous_features, '\\n')"
   ]
  },
  {
   "cell_type": "code",
   "execution_count": null,
   "id": "38a522be",
   "metadata": {
    "ExecuteTime": {
     "end_time": "2022-11-10T14:58:54.941479Z",
     "start_time": "2022-11-10T14:58:54.924877Z"
    }
   },
   "outputs": [],
   "source": [
    "#категориальные признаки\n",
    "\n",
    "categorical_features = [feature for feature in salary.columns if salary[feature].dtypes == 'O']\n",
    "print('Категориальные:', categorical_features) "
   ]
  },
  {
   "cell_type": "code",
   "execution_count": null,
   "id": "8fd28ceb",
   "metadata": {
    "ExecuteTime": {
     "end_time": "2022-11-10T14:58:54.981902Z",
     "start_time": "2022-11-10T14:58:54.941479Z"
    },
    "scrolled": false
   },
   "outputs": [],
   "source": [
    "# подсчет частоты категориальных переменных\n",
    "\n",
    "for feature in categorical_features:\n",
    "    print(salary[feature].value_counts())"
   ]
  },
  {
   "cell_type": "code",
   "execution_count": null,
   "id": "9e6697a2",
   "metadata": {
    "ExecuteTime": {
     "end_time": "2022-11-10T14:58:55.013932Z",
     "start_time": "2022-11-10T14:58:54.981902Z"
    }
   },
   "outputs": [],
   "source": [
    "for feature in categorical_features:\n",
    "    print(feature, 'имеет ', len(salary[feature].unique()), 'меток')"
   ]
  },
  {
   "cell_type": "markdown",
   "id": "da32e3fb",
   "metadata": {},
   "source": [
    "# Разведочный анализ данных"
   ]
  },
  {
   "cell_type": "markdown",
   "id": "3d12fb17",
   "metadata": {},
   "source": [
    "### Обнаружение выбросов"
   ]
  },
  {
   "cell_type": "code",
   "execution_count": null,
   "id": "a5b2cb00",
   "metadata": {
    "ExecuteTime": {
     "end_time": "2022-11-10T14:58:55.288133Z",
     "start_time": "2022-11-10T14:58:55.013932Z"
    }
   },
   "outputs": [],
   "source": [
    "# для непрерывных признаков -- Boxplot\n",
    "fig, axes=plt.subplots(4,1,figsize=(14,8))\n",
    "\n",
    "sns.boxplot(salary.age,  ax=axes[0])\n",
    "sns.boxplot(salary.capitalgain, ax=axes[1])\n",
    "sns.boxplot(salary.capitalloss,  ax=axes[2])\n",
    "sns.boxplot(salary.hoursperweek,  ax=axes[3])"
   ]
  },
  {
   "cell_type": "markdown",
   "id": "f5aa9c30",
   "metadata": {},
   "source": [
    "В данных присутствует много выбросов, но мы не можем их отбросить, поскольку они присутствуют в очень большом количестве и могут быть важны для построения модели."
   ]
  },
  {
   "cell_type": "code",
   "execution_count": null,
   "id": "613aef15",
   "metadata": {
    "ExecuteTime": {
     "end_time": "2022-11-10T14:58:56.322051Z",
     "start_time": "2022-11-10T14:58:55.288133Z"
    },
    "scrolled": false
   },
   "outputs": [],
   "source": [
    "# для категориальных признаков -- barplot\n",
    "fig, axes=plt.subplots(len(categorical_features),1,figsize=(14,50))\n",
    "\n",
    "for i in range (0, len(categorical_features)):\n",
    "    sns.countplot(salary[categorical_features[i]],ax=axes[i], order=salary[categorical_features[i]].value_counts().index)"
   ]
  },
  {
   "cell_type": "markdown",
   "id": "1c5abacb",
   "metadata": {},
   "source": [
    "## Одномерный анализ"
   ]
  },
  {
   "cell_type": "code",
   "execution_count": 19,
   "id": "83620c48",
   "metadata": {
    "ExecuteTime": {
     "end_time": "2022-11-10T14:58:56.338178Z",
     "start_time": "2022-11-10T14:58:56.322051Z"
    }
   },
   "outputs": [],
   "source": [
    "salary_more_than_50=pd.DataFrame()\n",
    "salary_less_than_50=pd.DataFrame()\n",
    "\n",
    "salary_more_than_50 = salary.loc[salary['Salary']==' >50K']\n",
    "\n",
    "salary_less_than_50 = salary.loc[salary['Salary']==' <=50K']"
   ]
  },
  {
   "cell_type": "code",
   "execution_count": null,
   "id": "741667e1",
   "metadata": {
    "ExecuteTime": {
     "end_time": "2022-11-10T14:58:56.354190Z",
     "start_time": "2022-11-10T14:58:56.338178Z"
    }
   },
   "outputs": [],
   "source": [
    "salary.shape"
   ]
  },
  {
   "cell_type": "code",
   "execution_count": null,
   "id": "38d0a704",
   "metadata": {
    "ExecuteTime": {
     "end_time": "2022-11-10T14:58:56.370189Z",
     "start_time": "2022-11-10T14:58:56.354190Z"
    }
   },
   "outputs": [],
   "source": [
    "(salary_less_than_50.shape[0] + salary_more_than_50.shape[0]) ==salary.shape[0]"
   ]
  },
  {
   "cell_type": "markdown",
   "id": "bf41f116",
   "metadata": {},
   "source": [
    "### Возрастное распределение по зарплате"
   ]
  },
  {
   "cell_type": "code",
   "execution_count": null,
   "id": "c25bd1aa",
   "metadata": {
    "ExecuteTime": {
     "end_time": "2022-11-10T14:58:56.675208Z",
     "start_time": "2022-11-10T14:58:56.370189Z"
    },
    "scrolled": false
   },
   "outputs": [],
   "source": [
    "plt.figure(figsize=(15,14))\n",
    "\n",
    "plt.subplot(3,1,1)\n",
    "plt.hist(salary_more_than_50.age, bins=[10, 20, 30, 40, 50, 60, 70, 80, 90])\n",
    "plt.title('Возраст тех, у кого зарплата_больше_50 тыс.')\n",
    "\n",
    "plt.subplot(3,1,2)\n",
    "plt.hist(salary_less_than_50.age, color = \"orange\", bins=[10, 20, 30, 40, 50, 60, 70, 80, 90])\n",
    "plt.title('Возраст тех, у кого зарплата_меньше_50 тыс.')\n",
    "\n",
    "\n",
    "age_describe = pd.DataFrame()\n",
    "\n",
    "age_describe['Возраст тех, у кого зарплата_больше_50 тыс.'] = salary_more_than_50['age'].describe()\n",
    "age_describe['Возраст тех, у кого зарплата_меньше_50 тыс.'] = salary_less_than_50['age'].describe()\n",
    "\n",
    "age_describe  = age_describe.drop(['count', '25%', '50%', '75%'])\n",
    "plt.subplot(3,1,2)\n",
    "age_describe.plot.bar()\n",
    "\n",
    "plt.show() \n",
    " "
   ]
  },
  {
   "cell_type": "markdown",
   "id": "393c2557",
   "metadata": {},
   "source": [
    "**Вывод:**\n",
    "\n",
    "- Возраст тех, у кого зарплата больше 50 тыс.: большинство людей находятся в возрастной группе от 30 до 50 лет, и нет никого моложе 20 лет\n",
    "\n",
    "- Возраст тех, у кого зарплата меньше 50 тыс.: с увеличением возраста количество людей не уменьшается."
   ]
  },
  {
   "cell_type": "markdown",
   "id": "965056bd",
   "metadata": {},
   "source": [
    "### Распределение количества часов в неделю относительно заработной платы"
   ]
  },
  {
   "cell_type": "code",
   "execution_count": null,
   "id": "767438de",
   "metadata": {
    "ExecuteTime": {
     "end_time": "2022-11-10T14:58:56.955818Z",
     "start_time": "2022-11-10T14:58:56.675208Z"
    }
   },
   "outputs": [],
   "source": [
    "plt.figure(figsize=(15,14))\n",
    "\n",
    "plt.subplot(3,1,1)\n",
    "plt.hist(salary_more_than_50.hoursperweek)\n",
    "plt.title('Часы/неделя для тех, у кого зарплата больше 50 тыс.')\n",
    "\n",
    "plt.subplot(3,1,2)\n",
    "plt.hist(salary_less_than_50.hoursperweek, color = \"orange\")\n",
    "plt.title('Часы/неделя для тех, у кого зарплата_меньше_50 тыс.')\n",
    "\n",
    "\n",
    "Hoursweek_describe = pd.DataFrame()\n",
    "\n",
    "Hoursweek_describe['Часы/неделя для тех, у кого зарплата_больше_50 тыс.'] = salary_more_than_50['hoursperweek'].describe()\n",
    "Hoursweek_describe['Часы/неделя для тех, у кого зарплата_меньше_50 тыс.'] = salary_less_than_50['hoursperweek'].describe()\n",
    "\n",
    "Hoursweek_describe = Hoursweek_describe.drop(['count', '25%', '50%', '75%'])\n",
    "plt.subplot(3,1,2)\n",
    "Hoursweek_describe.plot.bar()\n",
    "\n",
    "plt.show() \n",
    " "
   ]
  },
  {
   "cell_type": "markdown",
   "id": "7b0010e0",
   "metadata": {},
   "source": [
    "**Вывод:**\n",
    "\n",
    "- В обеих группах большинство работает по 30–40 часов в неделю, а люди, работающие по 80–90 часов, присутствуют в обеих группах."
   ]
  },
  {
   "cell_type": "markdown",
   "id": "a2bf4b15",
   "metadata": {},
   "source": [
    "## Распределение прироста капитала относительно заработной платы"
   ]
  },
  {
   "cell_type": "code",
   "execution_count": null,
   "id": "d917ee0c",
   "metadata": {
    "ExecuteTime": {
     "end_time": "2022-11-10T14:58:57.204152Z",
     "start_time": "2022-11-10T14:58:56.955818Z"
    }
   },
   "outputs": [],
   "source": [
    "plt.figure(figsize=(15,14))\n",
    "\n",
    "plt.subplot(3,1,1)\n",
    "plt.hist(salary_more_than_50.capitalgain)\n",
    "plt.title('Прирост капитала у тех, у кого зарплата больше 50 тыс.')\n",
    "\n",
    "plt.subplot(3,1,2)\n",
    "plt.hist(salary_less_than_50.capitalgain, color = \"orange\")\n",
    "plt.title('Прирост капитала у тех, у кого зарплата меньше 50 тыс.')\n",
    "\n",
    "\n",
    "capitalgain_describe = pd.DataFrame()\n",
    "\n",
    "capitalgain_describe['Прирост капитала у тех, у кого зарплата больше 50 тыс.'] = salary_more_than_50['capitalgain'].describe()\n",
    "capitalgain_describe['Прирост капитала у тех, у кого зарплата меньше 50 тыс.'] = salary_less_than_50['capitalgain'].describe()\n",
    "\n",
    "capitalgain_describe = capitalgain_describe.drop(['count', '25%', '50%', '75%'])\n",
    "plt.subplot(3,1,2)\n",
    "capitalgain_describe.plot.bar()\n",
    "\n",
    "plt.show() \n",
    " "
   ]
  },
  {
   "cell_type": "markdown",
   "id": "ed02761b",
   "metadata": {
    "ExecuteTime": {
     "end_time": "2022-11-10T14:45:11.079500Z",
     "start_time": "2022-11-10T14:45:11.066364Z"
    }
   },
   "source": [
    "**Вывод**\n",
    "- Зарплата более 50 тыс.: прирост капитала для большинства составляет от 0 до 1000\n",
    "\n",
    "- Зарплата менее 50 тыс.: прирост капитала для большинства составляет менее 500"
   ]
  },
  {
   "cell_type": "markdown",
   "id": "eec4133f",
   "metadata": {},
   "source": [
    "## Распределение убытков капитала по отношению к зарплате"
   ]
  },
  {
   "cell_type": "code",
   "execution_count": null,
   "id": "b8a3a0b1",
   "metadata": {
    "ExecuteTime": {
     "end_time": "2022-11-10T14:58:57.476745Z",
     "start_time": "2022-11-10T14:58:57.204152Z"
    },
    "scrolled": false
   },
   "outputs": [],
   "source": [
    "plt.figure(figsize=(15,14))\n",
    "\n",
    "plt.subplot(3,1,1)\n",
    "plt.hist(salary_more_than_50.capitalloss)\n",
    "plt.title('Потеря капитала у тех, у кого зарплата больше 50 тыс.')\n",
    "\n",
    "plt.subplot(3,1,2)\n",
    "plt.hist(salary_less_than_50.capitalloss, color = \"orange\")\n",
    "plt.title('Потеря капитала у тех, у кого зарплата меньше 50 тыс.')\n",
    "\n",
    "\n",
    "capitalloss_describe = pd.DataFrame()\n",
    "\n",
    "capitalloss_describe['Потеря капитала у тех, у кого зарплата больше 50 тыс.'] = salary_more_than_50['capitalloss'].describe()\n",
    "capitalloss_describe['Потеря капитала у тех, у кого зарплата меньше 50 тыс.'] = salary_less_than_50['capitalloss'].describe()\n",
    "\n",
    "capitalloss_describe = capitalloss_describe.drop(['count', '25%', '50%', '75%'])\n",
    "plt.subplot(3,1,2)\n",
    "capitalloss_describe.plot.bar()\n",
    "\n",
    "plt.show() \n",
    " "
   ]
  },
  {
   "cell_type": "markdown",
   "id": "5fbedf6d",
   "metadata": {},
   "source": [
    "## Категориальные переменные относительно зарплаты"
   ]
  },
  {
   "cell_type": "code",
   "execution_count": null,
   "id": "31110b9f",
   "metadata": {
    "ExecuteTime": {
     "end_time": "2022-11-10T14:58:58.681617Z",
     "start_time": "2022-11-10T14:58:57.476745Z"
    },
    "scrolled": false
   },
   "outputs": [],
   "source": [
    "j = 1\n",
    "categorical_features.remove('Salary') #удаляем столбец зарплата, так как он является целевой переменной.\n",
    "\n",
    "for feature in categorical_features:\n",
    "    df = pd.DataFrame()\n",
    "    df['More than 50k'] = salary[salary['Salary'] == ' >50K'][feature].value_counts()\n",
    "    df['Less than 50k'] = salary[salary['Salary'] == ' <=50K'][feature].value_counts()\n",
    "    \n",
    "    df.plot.bar(figsize=(14,6))\n",
    "    \n",
    "    j = j + 1 \n",
    "    \n",
    "  "
   ]
  },
  {
   "cell_type": "markdown",
   "id": "12d140c6",
   "metadata": {},
   "source": [
    "**Вывод:**\n",
    "\n",
    "- Большинство из обеих групп заняты в частном секторе\n",
    "\n",
    "- По мере снижения образовательной квалификации число людей в группе «зарплата более 50 тыс.» уменьшается.\n",
    "\n",
    "- Большинство людей с зарплатой более 50 тыс. состоят в браке.\n",
    "\n",
    "- Большинство людей с зарплатой менее 50 тыс. - ремонт, транспорт, рыболовство, уборка и другие услуги.\n",
    "\n",
    "- В то время как люди с зарплатой более 50 тыс. - менеджеры, преподаватели, продавцы.\n",
    "\n",
    "- Незначительное количество неместных граждан имеют зарплату более 50 тыс."
   ]
  },
  {
   "cell_type": "markdown",
   "id": "7e2c7826",
   "metadata": {},
   "source": [
    "# Предварительная обработка данных"
   ]
  },
  {
   "cell_type": "code",
   "execution_count": 27,
   "id": "a3fb2fbe",
   "metadata": {
    "ExecuteTime": {
     "end_time": "2022-11-10T14:58:58.689544Z",
     "start_time": "2022-11-10T14:58:58.681617Z"
    }
   },
   "outputs": [],
   "source": [
    "salary1 = salary.copy()"
   ]
  },
  {
   "cell_type": "code",
   "execution_count": 28,
   "id": "34e3f29e",
   "metadata": {
    "ExecuteTime": {
     "end_time": "2022-11-10T14:58:58.705544Z",
     "start_time": "2022-11-10T14:58:58.689544Z"
    }
   },
   "outputs": [],
   "source": [
    "salary1.drop('Salary',axis=1, inplace =True)"
   ]
  },
  {
   "cell_type": "code",
   "execution_count": null,
   "id": "e3330908",
   "metadata": {
    "ExecuteTime": {
     "end_time": "2022-11-10T14:58:58.737610Z",
     "start_time": "2022-11-10T14:58:58.705544Z"
    }
   },
   "outputs": [],
   "source": [
    "salary1"
   ]
  },
  {
   "cell_type": "code",
   "execution_count": null,
   "id": "90a978be",
   "metadata": {
    "ExecuteTime": {
     "end_time": "2022-11-10T14:58:58.801883Z",
     "start_time": "2022-11-10T14:58:58.737610Z"
    }
   },
   "outputs": [],
   "source": [
    "salary1 = pd.get_dummies(salary1)\n",
    "salary1.head() "
   ]
  },
  {
   "cell_type": "code",
   "execution_count": null,
   "id": "7ba0927e",
   "metadata": {
    "ExecuteTime": {
     "end_time": "2022-11-10T14:58:58.817868Z",
     "start_time": "2022-11-10T14:58:58.801883Z"
    }
   },
   "outputs": [],
   "source": [
    "salary1['Salary'] = salary.Salary\n",
    "salary1.head() "
   ]
  },
  {
   "cell_type": "code",
   "execution_count": 32,
   "id": "8bfd9e48",
   "metadata": {
    "ExecuteTime": {
     "end_time": "2022-11-10T14:58:58.962715Z",
     "start_time": "2022-11-10T14:58:58.817868Z"
    }
   },
   "outputs": [],
   "source": [
    "from sklearn.preprocessing import LabelEncoder"
   ]
  },
  {
   "cell_type": "code",
   "execution_count": null,
   "id": "03bf4034",
   "metadata": {
    "ExecuteTime": {
     "end_time": "2022-11-10T14:58:58.978781Z",
     "start_time": "2022-11-10T14:58:58.962715Z"
    }
   },
   "outputs": [],
   "source": [
    "encoder = LabelEncoder()\n",
    "encoder.fit(salary1.Salary)"
   ]
  },
  {
   "cell_type": "code",
   "execution_count": null,
   "id": "70833c4a",
   "metadata": {
    "ExecuteTime": {
     "end_time": "2022-11-10T14:58:59.018972Z",
     "start_time": "2022-11-10T14:58:58.978781Z"
    }
   },
   "outputs": [],
   "source": [
    "salary1.Salary = encoder.transform(salary1.Salary)\n",
    "salary1"
   ]
  },
  {
   "cell_type": "markdown",
   "id": "4c1931ce",
   "metadata": {},
   "source": [
    "## Разделение данных на обучающую и тестовую выборки"
   ]
  },
  {
   "cell_type": "code",
   "execution_count": null,
   "id": "66348f8b",
   "metadata": {
    "ExecuteTime": {
     "end_time": "2022-11-10T14:58:59.035029Z",
     "start_time": "2022-11-10T14:58:59.018972Z"
    }
   },
   "outputs": [],
   "source": [
    "salary_train.shape"
   ]
  },
  {
   "cell_type": "code",
   "execution_count": null,
   "id": "88e5ee1e",
   "metadata": {
    "ExecuteTime": {
     "end_time": "2022-11-10T14:58:59.051069Z",
     "start_time": "2022-11-10T14:58:59.036548Z"
    }
   },
   "outputs": [],
   "source": [
    "salary_test.shape"
   ]
  },
  {
   "cell_type": "code",
   "execution_count": 37,
   "id": "9b35e62d",
   "metadata": {
    "ExecuteTime": {
     "end_time": "2022-11-10T14:58:59.067062Z",
     "start_time": "2022-11-10T14:58:59.051069Z"
    }
   },
   "outputs": [],
   "source": [
    "# мы объединили обучающий и тестовый наборы для EDA и визуализации.\n",
    "# теперь давайте разделим их: первые 30161 - обучающий набор, а остальные 15060 записей — это тестовый набор.\n",
    "\n",
    "train_set = salary1.iloc[:30161, :]\n",
    "test_set = salary1.iloc[30161:, :]  "
   ]
  },
  {
   "cell_type": "code",
   "execution_count": null,
   "id": "9318e3bd",
   "metadata": {
    "ExecuteTime": {
     "end_time": "2022-11-10T14:58:59.083148Z",
     "start_time": "2022-11-10T14:58:59.067062Z"
    },
    "scrolled": true
   },
   "outputs": [],
   "source": [
    "print(\"Размер новых данных - {} , {}\".format(train_set.shape, test_set.shape))"
   ]
  },
  {
   "cell_type": "code",
   "execution_count": null,
   "id": "ef16b3b3",
   "metadata": {
    "ExecuteTime": {
     "end_time": "2022-11-10T14:58:59.115062Z",
     "start_time": "2022-11-10T14:58:59.083148Z"
    }
   },
   "outputs": [],
   "source": [
    "train_set "
   ]
  },
  {
   "cell_type": "code",
   "execution_count": null,
   "id": "caaf8ff7",
   "metadata": {
    "ExecuteTime": {
     "end_time": "2022-11-10T14:58:59.147189Z",
     "start_time": "2022-11-10T14:58:59.115062Z"
    }
   },
   "outputs": [],
   "source": [
    "x_train = train_set.iloc[:,:102]\n",
    "x_train "
   ]
  },
  {
   "cell_type": "code",
   "execution_count": null,
   "id": "75ac3b91",
   "metadata": {
    "ExecuteTime": {
     "end_time": "2022-11-10T14:58:59.163189Z",
     "start_time": "2022-11-10T14:58:59.147189Z"
    }
   },
   "outputs": [],
   "source": [
    "y_train = train_set.loc[:,['Salary']]\n",
    "y_train"
   ]
  },
  {
   "cell_type": "code",
   "execution_count": null,
   "id": "96dfd96f",
   "metadata": {
    "ExecuteTime": {
     "end_time": "2022-11-10T14:58:59.195189Z",
     "start_time": "2022-11-10T14:58:59.171190Z"
    }
   },
   "outputs": [],
   "source": [
    "test_set "
   ]
  },
  {
   "cell_type": "code",
   "execution_count": null,
   "id": "cdafed6d",
   "metadata": {
    "ExecuteTime": {
     "end_time": "2022-11-10T14:58:59.227224Z",
     "start_time": "2022-11-10T14:58:59.195189Z"
    }
   },
   "outputs": [],
   "source": [
    "x_test = test_set.iloc[:,:102]\n",
    "x_test "
   ]
  },
  {
   "cell_type": "code",
   "execution_count": null,
   "id": "1ea92cb7",
   "metadata": {
    "ExecuteTime": {
     "end_time": "2022-11-10T14:58:59.243245Z",
     "start_time": "2022-11-10T14:58:59.227224Z"
    }
   },
   "outputs": [],
   "source": [
    "y_test = test_set.loc[:,['Salary']]\n",
    "y_test"
   ]
  },
  {
   "cell_type": "markdown",
   "id": "f93f8e24",
   "metadata": {},
   "source": [
    "# Наивный байесовский классификатор"
   ]
  },
  {
   "cell_type": "code",
   "execution_count": 45,
   "id": "40537e60",
   "metadata": {
    "ExecuteTime": {
     "end_time": "2022-11-10T14:58:59.291879Z",
     "start_time": "2022-11-10T14:58:59.243245Z"
    }
   },
   "outputs": [],
   "source": [
    "from sklearn.naive_bayes import GaussianNB \n",
    "from sklearn.naive_bayes import MultinomialNB \n",
    "from sklearn.naive_bayes import BernoulliNB\n",
    "from sklearn.naive_bayes import CategoricalNB\n",
    "\n",
    "from sklearn.metrics import accuracy_score \n",
    "from sklearn.metrics import classification_report as report "
   ]
  },
  {
   "cell_type": "markdown",
   "id": "41989cd1",
   "metadata": {},
   "source": [
    "### Gaussian Naïve Bayes"
   ]
  },
  {
   "cell_type": "code",
   "execution_count": null,
   "id": "db8b18ca",
   "metadata": {
    "ExecuteTime": {
     "end_time": "2022-11-10T14:58:59.412576Z",
     "start_time": "2022-11-10T14:58:59.291879Z"
    }
   },
   "outputs": [],
   "source": [
    "model_GNB = GaussianNB()\n",
    "\n",
    "model_GNB.fit(x_train, y_train)\n",
    "\n",
    "y_pred_GNB = model_GNB.predict(x_test)\n",
    "\n",
    "#Точность\n",
    "#первый аргумент — истинные значения, второй аргумент — прогнозируемые значения\n",
    "print('GaussianNB Model accuracy score: {0:0.4f}'. format(accuracy_score(y_test, y_pred_GNB)))"
   ]
  },
  {
   "cell_type": "markdown",
   "id": "678b37e5",
   "metadata": {},
   "source": [
    "### Multinomial Naïve Bayes"
   ]
  },
  {
   "cell_type": "code",
   "execution_count": null,
   "id": "87f900dc",
   "metadata": {
    "ExecuteTime": {
     "end_time": "2022-11-10T14:58:59.461255Z",
     "start_time": "2022-11-10T14:58:59.412576Z"
    }
   },
   "outputs": [],
   "source": [
    "model_MNB = MultinomialNB()\n",
    "\n",
    "model_MNB.fit(x_train, y_train)\n",
    "\n",
    "y_pred_MNB = model_MNB.predict(x_test)\n",
    "\n",
    "print('MultinomialNB Model accuracy score: {0:0.4f}'. format(accuracy_score(y_test, y_pred_MNB)))"
   ]
  },
  {
   "cell_type": "markdown",
   "id": "0c488a57",
   "metadata": {},
   "source": [
    "### Bernoulli Naïve Bayes"
   ]
  },
  {
   "cell_type": "code",
   "execution_count": null,
   "id": "c9894575",
   "metadata": {
    "ExecuteTime": {
     "end_time": "2022-11-10T14:58:59.559086Z",
     "start_time": "2022-11-10T14:58:59.461255Z"
    }
   },
   "outputs": [],
   "source": [
    "model_BNB = BernoulliNB()\n",
    "\n",
    "model_BNB.fit(x_train, y_train)\n",
    "\n",
    "y_pred_BNB = model_BNB.predict(x_test)\n",
    "\n",
    "print('BernoulliNB Model accuracy score: {0:0.4f}'. format(accuracy_score(y_test, y_pred_BNB)))"
   ]
  },
  {
   "cell_type": "markdown",
   "id": "0dbea060",
   "metadata": {},
   "source": [
    "### Categorical Naïve Bayes\n"
   ]
  },
  {
   "cell_type": "code",
   "execution_count": null,
   "id": "569b2577",
   "metadata": {
    "ExecuteTime": {
     "end_time": "2022-11-10T14:58:59.712600Z",
     "start_time": "2022-11-10T14:58:59.559086Z"
    }
   },
   "outputs": [],
   "source": [
    "model_CNB = CategoricalNB()\n",
    "\n",
    "model_CNB.fit(x_train, y_train)\n",
    "\n",
    "y_pred_CNB = model_CNB.predict(x_test)\n",
    "\n",
    "print('Categorical Model accuracy score: {0:0.4f}'. format(accuracy_score(y_test, y_pred_CNB)))"
   ]
  },
  {
   "cell_type": "code",
   "execution_count": null,
   "id": "87f6a792",
   "metadata": {
    "ExecuteTime": {
     "end_time": "2022-11-10T14:58:59.793611Z",
     "start_time": "2022-11-10T14:58:59.712600Z"
    }
   },
   "outputs": [],
   "source": [
    "print('GaussianNB Model','\\n', report(y_test, y_pred_GNB))\n",
    "print('MultinomialNB Model','\\n',report(y_test, y_pred_MNB))\n",
    "print('BernoulliNB Model','\\n',report(y_test, y_pred_BNB))\n",
    "print('CategoricalNB Model','\\n',report(y_test, y_pred_CNB))"
   ]
  },
  {
   "cell_type": "markdown",
   "id": "152f896b",
   "metadata": {},
   "source": [
    "... Naïve Bayes показал лучшую точность. Следовательно, мы собираемся продолжать использовать ... для дальнейших метрик."
   ]
  },
  {
   "cell_type": "markdown",
   "id": "438c702c",
   "metadata": {},
   "source": [
    "## Матрица ошибок"
   ]
  },
  {
   "cell_type": "code",
   "execution_count": null,
   "id": "0a8be366",
   "metadata": {
    "ExecuteTime": {
     "end_time": "2022-11-10T14:58:59.841921Z",
     "start_time": "2022-11-10T14:58:59.793611Z"
    }
   },
   "outputs": [],
   "source": [
    "from sklearn.metrics import confusion_matrix as cm \n",
    "\n",
    "y_pred_CNB = model_CNB.predict(x_test)\n",
    "print(cm(y_test,y_pred_CNB)) "
   ]
  },
  {
   "cell_type": "code",
   "execution_count": null,
   "id": "2cb68633",
   "metadata": {
    "ExecuteTime": {
     "end_time": "2022-11-10T14:58:59.979530Z",
     "start_time": "2022-11-10T14:58:59.841921Z"
    },
    "scrolled": true
   },
   "outputs": [],
   "source": [
    "cm_df=cm(y_test, y_pred_CNB)\n",
    "class_label = [\"No\", \"Yes\"]\n",
    "\n",
    "df_cm = pd.DataFrame(cm_df, index = class_label, columns = class_label)\n",
    "sns.heatmap(df_cm, annot = True, fmt = \"d\")\n",
    "plt.title(\"Confusion Matrix\")\n",
    "plt.xlabel(\"Predicted Label\")\n",
    "plt.ylabel(\"Actual Label\")\n",
    "plt.show()"
   ]
  },
  {
   "cell_type": "markdown",
   "id": "9550d81b",
   "metadata": {},
   "source": [
    "## ROC AUC"
   ]
  },
  {
   "cell_type": "code",
   "execution_count": null,
   "id": "8e1bb677",
   "metadata": {
    "ExecuteTime": {
     "end_time": "2022-11-10T14:59:00.093138Z",
     "start_time": "2022-11-10T14:58:59.979530Z"
    }
   },
   "outputs": [],
   "source": [
    "\n",
    "from sklearn.metrics import roc_curve\n",
    "from sklearn.metrics import roc_auc_score\n",
    "\n",
    "fpr, tpr, thresholds = roc_curve(y_test, model_CNB.predict_proba (x_test)[:,1])\n",
    "auc = roc_auc_score(y_test, y_pred_CNB)\n",
    "\n",
    "plt.plot(fpr, tpr, color='red', label='logit model ( area  = %0.2f)' %auc)\n",
    "plt.plot([0, 1], [0, 1], 'k--')\n",
    "\n",
    "plt.title('ROC кривая для классификатора')\n",
    "plt.xlabel('False Positive Rate or [1 - True Negative Rate]')\n",
    "plt.ylabel('True Positive Rate')\n",
    "plt.show()\n",
    "\n",
    "print('AUC-ROC Score:',auc) "
   ]
  },
  {
   "cell_type": "markdown",
   "id": "977f2cf1",
   "metadata": {},
   "source": [
    "ROC AUC — это сводная информация о производительности классификатора, состоящая из одного числа. Чем выше значение, тем лучше классификатор. Идеальный классификатор будет иметь ROC AUC, равный 1."
   ]
  },
  {
   "cell_type": "markdown",
   "id": "189d10b0",
   "metadata": {},
   "source": [
    "## Проверка на переобучение и недообучение"
   ]
  },
  {
   "cell_type": "code",
   "execution_count": null,
   "id": "19e43cbe",
   "metadata": {
    "ExecuteTime": {
     "end_time": "2022-11-10T14:59:00.181359Z",
     "start_time": "2022-11-10T14:59:00.093138Z"
    }
   },
   "outputs": [],
   "source": [
    "print('Training set score: {:.2f}%'.format(model_CNB.score(x_train, y_train)*100))\n",
    "\n",
    "print('Test set score: {:.2f}%'.format(model_CNB.score(x_test, y_test)*100))"
   ]
  },
  {
   "cell_type": "markdown",
   "id": "4e85c170",
   "metadata": {},
   "source": [
    "Эти два значения должны быть сопоставимы. Таким образом, нет никаких признаков переобучения."
   ]
  }
 ],
 "metadata": {
  "kernelspec": {
   "display_name": "Python 3 (ipykernel)",
   "language": "python",
   "name": "python3"
  },
  "language_info": {
   "codemirror_mode": {
    "name": "ipython",
    "version": 3
   },
   "file_extension": ".py",
   "mimetype": "text/x-python",
   "name": "python",
   "nbconvert_exporter": "python",
   "pygments_lexer": "ipython3",
   "version": "3.12.3"
  }
 },
 "nbformat": 4,
 "nbformat_minor": 5
}
